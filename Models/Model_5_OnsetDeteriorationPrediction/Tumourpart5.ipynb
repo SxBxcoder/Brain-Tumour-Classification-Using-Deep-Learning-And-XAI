{
  "cells": [
    {
      "cell_type": "code",
      "execution_count": null,
      "metadata": {
        "colab": {
          "base_uri": "https://localhost:8080/"
        },
        "id": "spMHjFjdeSJb",
        "outputId": "8a49f74a-422a-4dcf-bdea-799943208974"
      },
      "outputs": [
        {
          "output_type": "stream",
          "name": "stdout",
          "text": [
            "Drive already mounted at /content/drive; to attempt to forcibly remount, call drive.mount(\"/content/drive\", force_remount=True).\n"
          ]
        }
      ],
      "source": [
        "from google.colab import drive\n",
        "drive.mount('/content/drive')\n",
        "# Path to your uploaded NBIA download folder\n",
        "dicom_dir = '/content/drive/MyDrive/UPENN_GBM_Top10'\n",
        "\n",
        "# Path where converted NIfTI files will go\n",
        "nifti_output_dir = '/content/drive/MyDrive/UPENN_GBM_Top10_NIfTI_Converted_Modality'\n"
      ]
    },
    {
      "cell_type": "code",
      "execution_count": null,
      "metadata": {
        "colab": {
          "base_uri": "https://localhost:8080/"
        },
        "id": "GK01APBR2mDL",
        "outputId": "d12ad20f-b3b9-4672-94a7-c2b596f0d2f2"
      },
      "outputs": [
        {
          "name": "stdout",
          "output_type": "stream",
          "text": [
            "Collecting dicom2nifti\n",
            "  Downloading dicom2nifti-2.6.1-py3-none-any.whl.metadata (1.5 kB)\n",
            "Collecting pydicom\n",
            "  Downloading pydicom-3.0.1-py3-none-any.whl.metadata (9.4 kB)\n",
            "Requirement already satisfied: nibabel in /usr/local/lib/python3.11/dist-packages (5.3.2)\n",
            "Requirement already satisfied: numpy in /usr/local/lib/python3.11/dist-packages (from dicom2nifti) (2.0.2)\n",
            "Requirement already satisfied: scipy in /usr/local/lib/python3.11/dist-packages (from dicom2nifti) (1.15.3)\n",
            "Collecting python-gdcm (from dicom2nifti)\n",
            "  Downloading python_gdcm-3.0.25-cp311-cp311-manylinux_2_17_x86_64.manylinux2014_x86_64.whl.metadata (3.8 kB)\n",
            "Requirement already satisfied: importlib-resources>=5.12 in /usr/local/lib/python3.11/dist-packages (from nibabel) (6.5.2)\n",
            "Requirement already satisfied: packaging>=20 in /usr/local/lib/python3.11/dist-packages (from nibabel) (24.2)\n",
            "Requirement already satisfied: typing-extensions>=4.6 in /usr/local/lib/python3.11/dist-packages (from nibabel) (4.14.0)\n",
            "Downloading dicom2nifti-2.6.1-py3-none-any.whl (43 kB)\n",
            "\u001b[2K   \u001b[90m━━━━━━━━━━━━━━━━━━━━━━━━━━━━━━━━━━━━━━━━\u001b[0m \u001b[32m43.6/43.6 kB\u001b[0m \u001b[31m1.3 MB/s\u001b[0m eta \u001b[36m0:00:00\u001b[0m\n",
            "\u001b[?25hDownloading pydicom-3.0.1-py3-none-any.whl (2.4 MB)\n",
            "\u001b[2K   \u001b[90m━━━━━━━━━━━━━━━━━━━━━━━━━━━━━━━━━━━━━━━━\u001b[0m \u001b[32m2.4/2.4 MB\u001b[0m \u001b[31m25.7 MB/s\u001b[0m eta \u001b[36m0:00:00\u001b[0m\n",
            "\u001b[?25hDownloading python_gdcm-3.0.25-cp311-cp311-manylinux_2_17_x86_64.manylinux2014_x86_64.whl (12.4 MB)\n",
            "\u001b[2K   \u001b[90m━━━━━━━━━━━━━━━━━━━━━━━━━━━━━━━━━━━━━━━━\u001b[0m \u001b[32m12.4/12.4 MB\u001b[0m \u001b[31m66.2 MB/s\u001b[0m eta \u001b[36m0:00:00\u001b[0m\n",
            "\u001b[?25hInstalling collected packages: python-gdcm, pydicom, dicom2nifti\n",
            "Successfully installed dicom2nifti-2.6.1 pydicom-3.0.1 python-gdcm-3.0.25\n"
          ]
        }
      ],
      "source": [
        "!pip install dicom2nifti pydicom nibabel\n"
      ]
    },
    {
      "cell_type": "code",
      "execution_count": null,
      "metadata": {
        "colab": {
          "base_uri": "https://localhost:8080/"
        },
        "id": "Tumm-Ibc2o5c",
        "outputId": "cc4d04e2-3226-41ca-b6bc-2ee8e1ff7e1e"
      },
      "outputs": [
        {
          "name": "stdout",
          "output_type": "stream",
          "text": [
            "✅ Converted: UPENN-GBM-00302/16.000000-t1 axial stealth-post  ProcessedCaPTk-56405 → T1CE\n",
            "✅ Converted: UPENN-GBM-00302/32.000000-PERFUSION BOLUS-66593 → UNKNOWN\n"
          ]
        },
        {
          "name": "stderr",
          "output_type": "stream",
          "text": [
            "Traceback (most recent call last):\n",
            "  File \"/usr/local/lib/python3.11/dist-packages/dicom2nifti/convert_dir.py\", line 86, in convert_directory\n",
            "    convert_dicom.dicom_array_to_nifti(dicom_input, nifti_file, reorient)\n",
            "  File \"/usr/local/lib/python3.11/dist-packages/dicom2nifti/convert_dicom.py\", line 121, in dicom_array_to_nifti\n",
            "    results = convert_siemens.dicom_to_nifti(dicom_list, output_file)\n",
            "              ^^^^^^^^^^^^^^^^^^^^^^^^^^^^^^^^^^^^^^^^^^^^^^^^^^^^^^^\n",
            "  File \"/usr/local/lib/python3.11/dist-packages/dicom2nifti/convert_siemens.py\", line 67, in dicom_to_nifti\n",
            "    return _mosaic_4d_to_nifti(dicom_input, output_file)\n",
            "           ^^^^^^^^^^^^^^^^^^^^^^^^^^^^^^^^^^^^^^^^^^^^^\n",
            "  File \"/usr/local/lib/python3.11/dist-packages/dicom2nifti/convert_siemens.py\", line 159, in _mosaic_4d_to_nifti\n",
            "    full_block = _mosaic_get_full_block(sorted_mosaics)\n",
            "                 ^^^^^^^^^^^^^^^^^^^^^^^^^^^^^^^^^^^^^^\n",
            "  File \"/usr/local/lib/python3.11/dist-packages/dicom2nifti/convert_siemens.py\", line 368, in _mosaic_get_full_block\n",
            "    data_blocks.append(_mosaic_to_block(sorted_mosaics[index]))\n",
            "                       ^^^^^^^^^^^^^^^^^^^^^^^^^^^^^^^^^^^^^^^\n",
            "  File \"/usr/local/lib/python3.11/dist-packages/dicom2nifti/convert_siemens.py\", line 481, in _mosaic_to_block\n",
            "    mosaic_type = _get_mosaic_type(mosaic)\n",
            "                  ^^^^^^^^^^^^^^^^^^^^^^^^\n",
            "  File \"/usr/local/lib/python3.11/dist-packages/dicom2nifti/convert_siemens.py\", line 419, in _get_mosaic_type\n",
            "    ascconv_headers = _get_asconv_headers(mosaic)\n",
            "                      ^^^^^^^^^^^^^^^^^^^^^^^^^^^\n",
            "  File \"/usr/local/lib/python3.11/dist-packages/dicom2nifti/convert_siemens.py\", line 405, in _get_asconv_headers\n",
            "    mosaic[Tag(0x0029, 0x1020)].value.decode(encoding='ISO-8859-1'),\n",
            "    ~~~~~~^^^^^^^^^^^^^^^^^^^^^\n",
            "  File \"/usr/local/lib/python3.11/dist-packages/pydicom/dataset.py\", line 1051, in __getitem__\n",
            "    elem = self._dict[tag]\n",
            "           ~~~~~~~~~~^^^^^\n",
            "KeyError: (0029,1020)\n"
          ]
        },
        {
          "name": "stdout",
          "output_type": "stream",
          "text": [
            "✅ Converted: UPENN-GBM-00302/7.000000-MDDW DTI AXIAL 30 DIRECTION-09457 → UNKNOWN\n",
            "✅ Converted: UPENN-GBM-00302/4.000000-T2 AXIAL ProcessedCaPTk-09394 → T2\n",
            "✅ Converted: UPENN-GBM-00302/3.000000-t1 axial ProcessedCaPTk-99374 → T1CE\n",
            "✅ Converted: UPENN-GBM-00302/33.000000-AX T1 3D POST STEALTH  ProcessedCaPTk-61828 → T1CE\n",
            "✅ Converted: UPENN-GBM-00302/15.000000-ep2dperf BOLUS-72584 → UNKNOWN\n"
          ]
        },
        {
          "name": "stderr",
          "output_type": "stream",
          "text": [
            "Traceback (most recent call last):\n",
            "  File \"/usr/local/lib/python3.11/dist-packages/dicom2nifti/convert_dir.py\", line 86, in convert_directory\n",
            "    convert_dicom.dicom_array_to_nifti(dicom_input, nifti_file, reorient)\n",
            "  File \"/usr/local/lib/python3.11/dist-packages/dicom2nifti/convert_dicom.py\", line 121, in dicom_array_to_nifti\n",
            "    results = convert_siemens.dicom_to_nifti(dicom_list, output_file)\n",
            "              ^^^^^^^^^^^^^^^^^^^^^^^^^^^^^^^^^^^^^^^^^^^^^^^^^^^^^^^\n",
            "  File \"/usr/local/lib/python3.11/dist-packages/dicom2nifti/convert_siemens.py\", line 67, in dicom_to_nifti\n",
            "    return _mosaic_4d_to_nifti(dicom_input, output_file)\n",
            "           ^^^^^^^^^^^^^^^^^^^^^^^^^^^^^^^^^^^^^^^^^^^^^\n",
            "  File \"/usr/local/lib/python3.11/dist-packages/dicom2nifti/convert_siemens.py\", line 159, in _mosaic_4d_to_nifti\n",
            "    full_block = _mosaic_get_full_block(sorted_mosaics)\n",
            "                 ^^^^^^^^^^^^^^^^^^^^^^^^^^^^^^^^^^^^^^\n",
            "  File \"/usr/local/lib/python3.11/dist-packages/dicom2nifti/convert_siemens.py\", line 368, in _mosaic_get_full_block\n",
            "    data_blocks.append(_mosaic_to_block(sorted_mosaics[index]))\n",
            "                       ^^^^^^^^^^^^^^^^^^^^^^^^^^^^^^^^^^^^^^^\n",
            "  File \"/usr/local/lib/python3.11/dist-packages/dicom2nifti/convert_siemens.py\", line 481, in _mosaic_to_block\n",
            "    mosaic_type = _get_mosaic_type(mosaic)\n",
            "                  ^^^^^^^^^^^^^^^^^^^^^^^^\n",
            "  File \"/usr/local/lib/python3.11/dist-packages/dicom2nifti/convert_siemens.py\", line 419, in _get_mosaic_type\n",
            "    ascconv_headers = _get_asconv_headers(mosaic)\n",
            "                      ^^^^^^^^^^^^^^^^^^^^^^^^^^^\n",
            "  File \"/usr/local/lib/python3.11/dist-packages/dicom2nifti/convert_siemens.py\", line 405, in _get_asconv_headers\n",
            "    mosaic[Tag(0x0029, 0x1020)].value.decode(encoding='ISO-8859-1'),\n",
            "    ~~~~~~^^^^^^^^^^^^^^^^^^^^^\n",
            "  File \"/usr/local/lib/python3.11/dist-packages/pydicom/dataset.py\", line 1051, in __getitem__\n",
            "    elem = self._dict[tag]\n",
            "           ~~~~~~~~~~^^^^^\n",
            "KeyError: (0029,1020)\n"
          ]
        },
        {
          "name": "stdout",
          "output_type": "stream",
          "text": [
            "✅ Converted: UPENN-GBM-00302/6.000000-ep2dDTI30dir-58741 → UNKNOWN\n",
            "✅ Converted: UPENN-GBM-00302/14.000000-t2Flairaxial ProcessedCaPTk-10551 → FLAIR\n",
            "✅ Converted: UPENN-GBM-00302/4.000000-Axial T2 tse ProcessedCaPTk-55250 → T2\n",
            "✅ Converted: UPENN-GBM-00302/31.000000-T2 AXIAL FLAIR ProcessedCaPTk-78479 → FLAIR\n",
            "✅ Converted: UPENN-GBM-00302/3.000000-AX T1 3D PRE ProcessedCaPTk-46619 → T1CE\n",
            "✅ Converted: UPENN-GBM-00130/36.000000-T2 AXIAL FLAIR POST  ProcessedCaPTk-48410 → FLAIR\n",
            "✅ Converted: UPENN-GBM-00130/14.000000-ep2dperf BOLUS-26749 → UNKNOWN\n",
            "✅ Converted: UPENN-GBM-00130/8.000000-AX T1 MPRAGE ISOTROPIC ProcessedCaPTk-13558 → T1CE\n",
            "✅ Converted: UPENN-GBM-00130/3.000000-AX T2  ProcessedCaPTk-86967 → T2\n",
            "✅ Converted: UPENN-GBM-00130/34.000000-T2 AXIAL ProcessedCaPTk-73837 → T2\n",
            "✅ Converted: UPENN-GBM-00130/6.000000-AX T1 PRE  ProcessedCaPTk-25517 → T1CE\n",
            "✅ Converted: UPENN-GBM-00130/3.000000-AX T1 3D PRE ProcessedCaPTk-34202 → T1CE\n",
            "✅ Converted: UPENN-GBM-00130/37.000000-AX T1 3D POST STEALTH  ProcessedCaPTk-99769 → T1CE\n"
          ]
        },
        {
          "name": "stderr",
          "output_type": "stream",
          "text": [
            "Traceback (most recent call last):\n",
            "  File \"/usr/local/lib/python3.11/dist-packages/dicom2nifti/convert_dir.py\", line 86, in convert_directory\n",
            "    convert_dicom.dicom_array_to_nifti(dicom_input, nifti_file, reorient)\n",
            "  File \"/usr/local/lib/python3.11/dist-packages/dicom2nifti/convert_dicom.py\", line 121, in dicom_array_to_nifti\n",
            "    results = convert_siemens.dicom_to_nifti(dicom_list, output_file)\n",
            "              ^^^^^^^^^^^^^^^^^^^^^^^^^^^^^^^^^^^^^^^^^^^^^^^^^^^^^^^\n",
            "  File \"/usr/local/lib/python3.11/dist-packages/dicom2nifti/convert_siemens.py\", line 67, in dicom_to_nifti\n",
            "    return _mosaic_4d_to_nifti(dicom_input, output_file)\n",
            "           ^^^^^^^^^^^^^^^^^^^^^^^^^^^^^^^^^^^^^^^^^^^^^\n",
            "  File \"/usr/local/lib/python3.11/dist-packages/dicom2nifti/convert_siemens.py\", line 159, in _mosaic_4d_to_nifti\n",
            "    full_block = _mosaic_get_full_block(sorted_mosaics)\n",
            "                 ^^^^^^^^^^^^^^^^^^^^^^^^^^^^^^^^^^^^^^\n",
            "  File \"/usr/local/lib/python3.11/dist-packages/dicom2nifti/convert_siemens.py\", line 368, in _mosaic_get_full_block\n",
            "    data_blocks.append(_mosaic_to_block(sorted_mosaics[index]))\n",
            "                       ^^^^^^^^^^^^^^^^^^^^^^^^^^^^^^^^^^^^^^^\n",
            "  File \"/usr/local/lib/python3.11/dist-packages/dicom2nifti/convert_siemens.py\", line 481, in _mosaic_to_block\n",
            "    mosaic_type = _get_mosaic_type(mosaic)\n",
            "                  ^^^^^^^^^^^^^^^^^^^^^^^^\n",
            "  File \"/usr/local/lib/python3.11/dist-packages/dicom2nifti/convert_siemens.py\", line 419, in _get_mosaic_type\n",
            "    ascconv_headers = _get_asconv_headers(mosaic)\n",
            "                      ^^^^^^^^^^^^^^^^^^^^^^^^^^^\n",
            "  File \"/usr/local/lib/python3.11/dist-packages/dicom2nifti/convert_siemens.py\", line 405, in _get_asconv_headers\n",
            "    mosaic[Tag(0x0029, 0x1020)].value.decode(encoding='ISO-8859-1'),\n",
            "    ~~~~~~^^^^^^^^^^^^^^^^^^^^^\n",
            "  File \"/usr/local/lib/python3.11/dist-packages/pydicom/dataset.py\", line 1051, in __getitem__\n",
            "    elem = self._dict[tag]\n",
            "           ~~~~~~~~~~^^^^^\n",
            "KeyError: (0029,1020)\n"
          ]
        },
        {
          "name": "stdout",
          "output_type": "stream",
          "text": [
            "✅ Converted: UPENN-GBM-00130/27.000000-MDDW DTI AXIAL 30 DIRECTION-69698 → UNKNOWN\n",
            "✅ Converted: UPENN-GBM-00130/7.000000-AX FLAIR ProcessedCaPTk-81456 → FLAIR\n",
            "✅ Converted: UPENN-GBM-00280/7.000000-AX T1 PRE  ProcessedCaPTk-52423 → T1CE\n",
            "✅ Converted: UPENN-GBM-00280/45.000000-PERFUSION BOLUS-43638 → UNKNOWN\n"
          ]
        },
        {
          "name": "stderr",
          "output_type": "stream",
          "text": [
            "Traceback (most recent call last):\n",
            "  File \"/usr/local/lib/python3.11/dist-packages/dicom2nifti/convert_dir.py\", line 86, in convert_directory\n",
            "    convert_dicom.dicom_array_to_nifti(dicom_input, nifti_file, reorient)\n",
            "  File \"/usr/local/lib/python3.11/dist-packages/dicom2nifti/convert_dicom.py\", line 121, in dicom_array_to_nifti\n",
            "    results = convert_siemens.dicom_to_nifti(dicom_list, output_file)\n",
            "              ^^^^^^^^^^^^^^^^^^^^^^^^^^^^^^^^^^^^^^^^^^^^^^^^^^^^^^^\n",
            "  File \"/usr/local/lib/python3.11/dist-packages/dicom2nifti/convert_siemens.py\", line 67, in dicom_to_nifti\n",
            "    return _mosaic_4d_to_nifti(dicom_input, output_file)\n",
            "           ^^^^^^^^^^^^^^^^^^^^^^^^^^^^^^^^^^^^^^^^^^^^^\n",
            "  File \"/usr/local/lib/python3.11/dist-packages/dicom2nifti/convert_siemens.py\", line 159, in _mosaic_4d_to_nifti\n",
            "    full_block = _mosaic_get_full_block(sorted_mosaics)\n",
            "                 ^^^^^^^^^^^^^^^^^^^^^^^^^^^^^^^^^^^^^^\n",
            "  File \"/usr/local/lib/python3.11/dist-packages/dicom2nifti/convert_siemens.py\", line 368, in _mosaic_get_full_block\n",
            "    data_blocks.append(_mosaic_to_block(sorted_mosaics[index]))\n",
            "                       ^^^^^^^^^^^^^^^^^^^^^^^^^^^^^^^^^^^^^^^\n",
            "  File \"/usr/local/lib/python3.11/dist-packages/dicom2nifti/convert_siemens.py\", line 481, in _mosaic_to_block\n",
            "    mosaic_type = _get_mosaic_type(mosaic)\n",
            "                  ^^^^^^^^^^^^^^^^^^^^^^^^\n",
            "  File \"/usr/local/lib/python3.11/dist-packages/dicom2nifti/convert_siemens.py\", line 419, in _get_mosaic_type\n",
            "    ascconv_headers = _get_asconv_headers(mosaic)\n",
            "                      ^^^^^^^^^^^^^^^^^^^^^^^^^^^\n",
            "  File \"/usr/local/lib/python3.11/dist-packages/dicom2nifti/convert_siemens.py\", line 405, in _get_asconv_headers\n",
            "    mosaic[Tag(0x0029, 0x1020)].value.decode(encoding='ISO-8859-1'),\n",
            "    ~~~~~~^^^^^^^^^^^^^^^^^^^^^\n",
            "  File \"/usr/local/lib/python3.11/dist-packages/pydicom/dataset.py\", line 1051, in __getitem__\n",
            "    elem = self._dict[tag]\n",
            "           ~~~~~~~~~~^^^^^\n",
            "KeyError: (0029,1020)\n"
          ]
        },
        {
          "name": "stdout",
          "output_type": "stream",
          "text": [
            "✅ Converted: UPENN-GBM-00280/36.000000-MDDW DTI AXIAL 30 DIRECTION-81277 → UNKNOWN\n",
            "✅ Converted: UPENN-GBM-00280/44.000000-T2 AXIAL FLAIR ProcessedCaPTk-37693 → FLAIR\n",
            "✅ Converted: UPENN-GBM-00280/3.000000-AX T2  ProcessedCaPTk-46774 → T2\n",
            "✅ Converted: UPENN-GBM-00280/46.000000-AX T1 3D POST STEALTH  ProcessedCaPTk-37500 → T1CE\n",
            "✅ Converted: UPENN-GBM-00280/8.000000-AXIAL FLAIR  ProcessedCaPTk-34014 → FLAIR\n",
            "✅ Converted: UPENN-GBM-00280/34.000000-T2 AXIAL ProcessedCaPTk-37990 → T2\n",
            "✅ Converted: UPENN-GBM-00280/9.000000-AX T1 MPRAGE ISOTROPIC ProcessedCaPTk-13577 → T1CE\n",
            "✅ Converted: UPENN-GBM-00280/2.000000-T1 MPRAGE AXIAL IPAT ProcessedCaPTk-74418 → T1CE\n",
            "✅ Converted: UPENN-GBM-00183/4.000000-t1 axial stealth-post  ProcessedCaPTk-79645 → T1CE\n",
            "✅ Converted: UPENN-GBM-00183/2.000000-t2Flairaxial ProcessedCaPTk-31249 → FLAIR\n",
            "✅ Converted: UPENN-GBM-00183/3.000000-ep2dperf 12 CC BOLUS-48339 → UNKNOWN\n",
            "✅ Converted: UPENN-GBM-00183/4.000000-Axial T2 tse ProcessedCaPTk-79130 → T2\n",
            "✅ Converted: UPENN-GBM-00183/3.000000-t1 axial ProcessedCaPTk-14277 → T1CE\n",
            "✅ Converted: UPENN-GBM-00183/3.000000-t1 axial ProcessedCaPTk-07649 → T1CE\n"
          ]
        },
        {
          "name": "stderr",
          "output_type": "stream",
          "text": [
            "Traceback (most recent call last):\n",
            "  File \"/usr/local/lib/python3.11/dist-packages/dicom2nifti/convert_dir.py\", line 86, in convert_directory\n",
            "    convert_dicom.dicom_array_to_nifti(dicom_input, nifti_file, reorient)\n",
            "  File \"/usr/local/lib/python3.11/dist-packages/dicom2nifti/convert_dicom.py\", line 121, in dicom_array_to_nifti\n",
            "    results = convert_siemens.dicom_to_nifti(dicom_list, output_file)\n",
            "              ^^^^^^^^^^^^^^^^^^^^^^^^^^^^^^^^^^^^^^^^^^^^^^^^^^^^^^^\n",
            "  File \"/usr/local/lib/python3.11/dist-packages/dicom2nifti/convert_siemens.py\", line 67, in dicom_to_nifti\n",
            "    return _mosaic_4d_to_nifti(dicom_input, output_file)\n",
            "           ^^^^^^^^^^^^^^^^^^^^^^^^^^^^^^^^^^^^^^^^^^^^^\n",
            "  File \"/usr/local/lib/python3.11/dist-packages/dicom2nifti/convert_siemens.py\", line 159, in _mosaic_4d_to_nifti\n",
            "    full_block = _mosaic_get_full_block(sorted_mosaics)\n",
            "                 ^^^^^^^^^^^^^^^^^^^^^^^^^^^^^^^^^^^^^^\n",
            "  File \"/usr/local/lib/python3.11/dist-packages/dicom2nifti/convert_siemens.py\", line 368, in _mosaic_get_full_block\n",
            "    data_blocks.append(_mosaic_to_block(sorted_mosaics[index]))\n",
            "                       ^^^^^^^^^^^^^^^^^^^^^^^^^^^^^^^^^^^^^^^\n",
            "  File \"/usr/local/lib/python3.11/dist-packages/dicom2nifti/convert_siemens.py\", line 481, in _mosaic_to_block\n",
            "    mosaic_type = _get_mosaic_type(mosaic)\n",
            "                  ^^^^^^^^^^^^^^^^^^^^^^^^\n",
            "  File \"/usr/local/lib/python3.11/dist-packages/dicom2nifti/convert_siemens.py\", line 419, in _get_mosaic_type\n",
            "    ascconv_headers = _get_asconv_headers(mosaic)\n",
            "                      ^^^^^^^^^^^^^^^^^^^^^^^^^^^\n",
            "  File \"/usr/local/lib/python3.11/dist-packages/dicom2nifti/convert_siemens.py\", line 405, in _get_asconv_headers\n",
            "    mosaic[Tag(0x0029, 0x1020)].value.decode(encoding='ISO-8859-1'),\n",
            "    ~~~~~~^^^^^^^^^^^^^^^^^^^^^\n",
            "  File \"/usr/local/lib/python3.11/dist-packages/pydicom/dataset.py\", line 1051, in __getitem__\n",
            "    elem = self._dict[tag]\n",
            "           ~~~~~~~~~~^^^^^\n",
            "KeyError: (0029,1020)\n"
          ]
        },
        {
          "name": "stdout",
          "output_type": "stream",
          "text": [
            "✅ Converted: UPENN-GBM-00183/6.000000-ep2dDTI30dir-05655 → UNKNOWN\n",
            "✅ Converted: UPENN-GBM-00183/15.000000-ep2dperf BOLUS-30603 → UNKNOWN\n",
            "✅ Converted: UPENN-GBM-00183/13.000000-t2Flairaxial ProcessedCaPTk-70023 → FLAIR\n",
            "✅ Converted: UPENN-GBM-00183/16.000000-t1 axial stealth-post  ProcessedCaPTk-83907 → T1CE\n"
          ]
        },
        {
          "name": "stderr",
          "output_type": "stream",
          "text": [
            "Traceback (most recent call last):\n",
            "  File \"/usr/local/lib/python3.11/dist-packages/dicom2nifti/convert_dir.py\", line 86, in convert_directory\n",
            "    convert_dicom.dicom_array_to_nifti(dicom_input, nifti_file, reorient)\n",
            "  File \"/usr/local/lib/python3.11/dist-packages/dicom2nifti/convert_dicom.py\", line 121, in dicom_array_to_nifti\n",
            "    results = convert_siemens.dicom_to_nifti(dicom_list, output_file)\n",
            "              ^^^^^^^^^^^^^^^^^^^^^^^^^^^^^^^^^^^^^^^^^^^^^^^^^^^^^^^\n",
            "  File \"/usr/local/lib/python3.11/dist-packages/dicom2nifti/convert_siemens.py\", line 67, in dicom_to_nifti\n",
            "    return _mosaic_4d_to_nifti(dicom_input, output_file)\n",
            "           ^^^^^^^^^^^^^^^^^^^^^^^^^^^^^^^^^^^^^^^^^^^^^\n",
            "  File \"/usr/local/lib/python3.11/dist-packages/dicom2nifti/convert_siemens.py\", line 159, in _mosaic_4d_to_nifti\n",
            "    full_block = _mosaic_get_full_block(sorted_mosaics)\n",
            "                 ^^^^^^^^^^^^^^^^^^^^^^^^^^^^^^^^^^^^^^\n",
            "  File \"/usr/local/lib/python3.11/dist-packages/dicom2nifti/convert_siemens.py\", line 368, in _mosaic_get_full_block\n",
            "    data_blocks.append(_mosaic_to_block(sorted_mosaics[index]))\n",
            "                       ^^^^^^^^^^^^^^^^^^^^^^^^^^^^^^^^^^^^^^^\n",
            "  File \"/usr/local/lib/python3.11/dist-packages/dicom2nifti/convert_siemens.py\", line 481, in _mosaic_to_block\n",
            "    mosaic_type = _get_mosaic_type(mosaic)\n",
            "                  ^^^^^^^^^^^^^^^^^^^^^^^^\n",
            "  File \"/usr/local/lib/python3.11/dist-packages/dicom2nifti/convert_siemens.py\", line 419, in _get_mosaic_type\n",
            "    ascconv_headers = _get_asconv_headers(mosaic)\n",
            "                      ^^^^^^^^^^^^^^^^^^^^^^^^^^^\n",
            "  File \"/usr/local/lib/python3.11/dist-packages/dicom2nifti/convert_siemens.py\", line 405, in _get_asconv_headers\n",
            "    mosaic[Tag(0x0029, 0x1020)].value.decode(encoding='ISO-8859-1'),\n",
            "    ~~~~~~^^^^^^^^^^^^^^^^^^^^^\n",
            "  File \"/usr/local/lib/python3.11/dist-packages/pydicom/dataset.py\", line 1051, in __getitem__\n",
            "    elem = self._dict[tag]\n",
            "           ~~~~~~~~~~^^^^^\n",
            "KeyError: (0029,1020)\n"
          ]
        },
        {
          "name": "stdout",
          "output_type": "stream",
          "text": [
            "✅ Converted: UPENN-GBM-00183/6.000000-ep2dDTI30dir-91084 → UNKNOWN\n",
            "✅ Converted: UPENN-GBM-00183/4.000000-Axial T2 tse ProcessedCaPTk-04943 → T2\n",
            "✅ Converted: UPENN-GBM-00314/42.000000-AX T1 3D POST STEALTH  ProcessedCaPTk-89697 → T1CE\n",
            "✅ Converted: UPENN-GBM-00314/3.000000-AX T1 3D PRE ProcessedCaPTk-83452 → T1CE\n",
            "✅ Converted: UPENN-GBM-00314/11.000000-AXIAL T2 FLAIR ProcessedCaPTk-38455 → FLAIR\n"
          ]
        },
        {
          "name": "stderr",
          "output_type": "stream",
          "text": [
            "WARNING:dicom2nifti.convert_generic:Removing duplicate slice from series\n",
            "WARNING:dicom2nifti.convert_generic:Removing duplicate slice from series\n",
            "WARNING:dicom2nifti.convert_generic:Removing duplicate slice from series\n",
            "WARNING:dicom2nifti.convert_generic:Removing duplicate slice from series\n",
            "WARNING:dicom2nifti.convert_generic:Removing duplicate slice from series\n",
            "WARNING:dicom2nifti.convert_generic:Removing duplicate slice from series\n",
            "WARNING:dicom2nifti.convert_generic:Removing duplicate slice from series\n"
          ]
        },
        {
          "name": "stdout",
          "output_type": "stream",
          "text": [
            "✅ Converted: UPENN-GBM-00314/40.000000-T2 AXIAL FLAIR ProcessedCaPTk-89595 → FLAIR\n",
            "✅ Converted: UPENN-GBM-00314/13.000000-T1 MPRAGE AX ProcessedCaPTk-52963 → T1CE\n",
            "✅ Converted: UPENN-GBM-00314/41.000000-PERFUSION BOLUS-47360 → UNKNOWN\n"
          ]
        },
        {
          "name": "stderr",
          "output_type": "stream",
          "text": [
            "Traceback (most recent call last):\n",
            "  File \"/usr/local/lib/python3.11/dist-packages/dicom2nifti/convert_dir.py\", line 86, in convert_directory\n",
            "    convert_dicom.dicom_array_to_nifti(dicom_input, nifti_file, reorient)\n",
            "  File \"/usr/local/lib/python3.11/dist-packages/dicom2nifti/convert_dicom.py\", line 121, in dicom_array_to_nifti\n",
            "    results = convert_siemens.dicom_to_nifti(dicom_list, output_file)\n",
            "              ^^^^^^^^^^^^^^^^^^^^^^^^^^^^^^^^^^^^^^^^^^^^^^^^^^^^^^^\n",
            "  File \"/usr/local/lib/python3.11/dist-packages/dicom2nifti/convert_siemens.py\", line 67, in dicom_to_nifti\n",
            "    return _mosaic_4d_to_nifti(dicom_input, output_file)\n",
            "           ^^^^^^^^^^^^^^^^^^^^^^^^^^^^^^^^^^^^^^^^^^^^^\n",
            "  File \"/usr/local/lib/python3.11/dist-packages/dicom2nifti/convert_siemens.py\", line 159, in _mosaic_4d_to_nifti\n",
            "    full_block = _mosaic_get_full_block(sorted_mosaics)\n",
            "                 ^^^^^^^^^^^^^^^^^^^^^^^^^^^^^^^^^^^^^^\n",
            "  File \"/usr/local/lib/python3.11/dist-packages/dicom2nifti/convert_siemens.py\", line 368, in _mosaic_get_full_block\n",
            "    data_blocks.append(_mosaic_to_block(sorted_mosaics[index]))\n",
            "                       ^^^^^^^^^^^^^^^^^^^^^^^^^^^^^^^^^^^^^^^\n",
            "  File \"/usr/local/lib/python3.11/dist-packages/dicom2nifti/convert_siemens.py\", line 481, in _mosaic_to_block\n",
            "    mosaic_type = _get_mosaic_type(mosaic)\n",
            "                  ^^^^^^^^^^^^^^^^^^^^^^^^\n",
            "  File \"/usr/local/lib/python3.11/dist-packages/dicom2nifti/convert_siemens.py\", line 419, in _get_mosaic_type\n",
            "    ascconv_headers = _get_asconv_headers(mosaic)\n",
            "                      ^^^^^^^^^^^^^^^^^^^^^^^^^^^\n",
            "  File \"/usr/local/lib/python3.11/dist-packages/dicom2nifti/convert_siemens.py\", line 405, in _get_asconv_headers\n",
            "    mosaic[Tag(0x0029, 0x1020)].value.decode(encoding='ISO-8859-1'),\n",
            "    ~~~~~~^^^^^^^^^^^^^^^^^^^^^\n",
            "  File \"/usr/local/lib/python3.11/dist-packages/pydicom/dataset.py\", line 1051, in __getitem__\n",
            "    elem = self._dict[tag]\n",
            "           ~~~~~~~~~~^^^^^\n",
            "KeyError: (0029,1020)\n"
          ]
        },
        {
          "name": "stdout",
          "output_type": "stream",
          "text": [
            "✅ Converted: UPENN-GBM-00314/7.000000-MDDW DTI AXIAL 30 DIRECTION-79231 → UNKNOWN\n"
          ]
        },
        {
          "name": "stderr",
          "output_type": "stream",
          "text": [
            "Traceback (most recent call last):\n",
            "  File \"/usr/local/lib/python3.11/dist-packages/dicom2nifti/convert_dir.py\", line 86, in convert_directory\n",
            "    convert_dicom.dicom_array_to_nifti(dicom_input, nifti_file, reorient)\n",
            "  File \"/usr/local/lib/python3.11/dist-packages/dicom2nifti/convert_dicom.py\", line 121, in dicom_array_to_nifti\n",
            "    results = convert_siemens.dicom_to_nifti(dicom_list, output_file)\n",
            "              ^^^^^^^^^^^^^^^^^^^^^^^^^^^^^^^^^^^^^^^^^^^^^^^^^^^^^^^\n",
            "  File \"/usr/local/lib/python3.11/dist-packages/dicom2nifti/convert_siemens.py\", line 67, in dicom_to_nifti\n",
            "    return _mosaic_4d_to_nifti(dicom_input, output_file)\n",
            "           ^^^^^^^^^^^^^^^^^^^^^^^^^^^^^^^^^^^^^^^^^^^^^\n",
            "  File \"/usr/local/lib/python3.11/dist-packages/dicom2nifti/convert_siemens.py\", line 159, in _mosaic_4d_to_nifti\n",
            "    full_block = _mosaic_get_full_block(sorted_mosaics)\n",
            "                 ^^^^^^^^^^^^^^^^^^^^^^^^^^^^^^^^^^^^^^\n",
            "  File \"/usr/local/lib/python3.11/dist-packages/dicom2nifti/convert_siemens.py\", line 368, in _mosaic_get_full_block\n",
            "    data_blocks.append(_mosaic_to_block(sorted_mosaics[index]))\n",
            "                       ^^^^^^^^^^^^^^^^^^^^^^^^^^^^^^^^^^^^^^^\n",
            "  File \"/usr/local/lib/python3.11/dist-packages/dicom2nifti/convert_siemens.py\", line 481, in _mosaic_to_block\n",
            "    mosaic_type = _get_mosaic_type(mosaic)\n",
            "                  ^^^^^^^^^^^^^^^^^^^^^^^^\n",
            "  File \"/usr/local/lib/python3.11/dist-packages/dicom2nifti/convert_siemens.py\", line 419, in _get_mosaic_type\n",
            "    ascconv_headers = _get_asconv_headers(mosaic)\n",
            "                      ^^^^^^^^^^^^^^^^^^^^^^^^^^^\n",
            "  File \"/usr/local/lib/python3.11/dist-packages/dicom2nifti/convert_siemens.py\", line 405, in _get_asconv_headers\n",
            "    mosaic[Tag(0x0029, 0x1020)].value.decode(encoding='ISO-8859-1'),\n",
            "    ~~~~~~^^^^^^^^^^^^^^^^^^^^^\n",
            "  File \"/usr/local/lib/python3.11/dist-packages/pydicom/dataset.py\", line 1051, in __getitem__\n",
            "    elem = self._dict[tag]\n",
            "           ~~~~~~~~~~^^^^^\n",
            "KeyError: (0029,1020)\n"
          ]
        },
        {
          "name": "stdout",
          "output_type": "stream",
          "text": [
            "✅ Converted: UPENN-GBM-00314/4.000000-DTI-18972 → UNKNOWN\n"
          ]
        },
        {
          "name": "stderr",
          "output_type": "stream",
          "text": [
            "/usr/local/lib/python3.11/dist-packages/dicom2nifti/convert_siemens.py:282: RuntimeWarning: invalid value encountered in divide\n",
            "  current_direction = current_direction / numpy.linalg.norm(current_direction)\n",
            "Traceback (most recent call last):\n",
            "  File \"/usr/local/lib/python3.11/dist-packages/dicom2nifti/convert_dir.py\", line 86, in convert_directory\n",
            "    convert_dicom.dicom_array_to_nifti(dicom_input, nifti_file, reorient)\n",
            "  File \"/usr/local/lib/python3.11/dist-packages/dicom2nifti/convert_dicom.py\", line 121, in dicom_array_to_nifti\n",
            "    results = convert_siemens.dicom_to_nifti(dicom_list, output_file)\n",
            "              ^^^^^^^^^^^^^^^^^^^^^^^^^^^^^^^^^^^^^^^^^^^^^^^^^^^^^^^\n",
            "  File \"/usr/local/lib/python3.11/dist-packages/dicom2nifti/convert_siemens.py\", line 76, in dicom_to_nifti\n",
            "    return _classic_4d_to_nifti(grouped_dicoms, output_file)\n",
            "           ^^^^^^^^^^^^^^^^^^^^^^^^^^^^^^^^^^^^^^^^^^^^^^^^^\n",
            "  File \"/usr/local/lib/python3.11/dist-packages/dicom2nifti/convert_siemens.py\", line 214, in _classic_4d_to_nifti\n",
            "    full_block = _classic_get_full_block(grouped_dicoms)\n",
            "                 ^^^^^^^^^^^^^^^^^^^^^^^^^^^^^^^^^^^^^^^\n",
            "  File \"/usr/local/lib/python3.11/dist-packages/dicom2nifti/convert_siemens.py\", line 348, in _classic_get_full_block\n",
            "    full_block[:, :, :, index] = data_blocks[index]\n",
            "    ~~~~~~~~~~^^^^^^^^^^^^^^^^\n",
            "ValueError: could not broadcast input array from shape (128,128,2) into shape (128,128,20)\n"
          ]
        },
        {
          "name": "stdout",
          "output_type": "stream",
          "text": [
            "✅ Converted: UPENN-GBM-00314/12.000000-PERFUSION-68717 → UNKNOWN\n",
            "✅ Converted: UPENN-GBM-00314/2.000000-AX TI 3D MPRAGE  ProcessedCaPTk-32716 → UNKNOWN\n",
            "✅ Converted: UPENN-GBM-00314/4.000000-T2 AXIAL ProcessedCaPTk-71528 → T2\n",
            "✅ Converted: UPENN-GBM-00314/3.000000-T2 AXIAL ProcessedCaPTk-85953 → T2\n",
            "✅ Converted: UPENN-GBM-00332/12.000000-t2Flairaxial ProcessedCaPTk-10409 → FLAIR\n",
            "✅ Converted: UPENN-GBM-00332/46.000000-PERFUSION BOLUS-40393 → UNKNOWN\n"
          ]
        },
        {
          "name": "stderr",
          "output_type": "stream",
          "text": [
            "Traceback (most recent call last):\n",
            "  File \"/usr/local/lib/python3.11/dist-packages/dicom2nifti/convert_dir.py\", line 86, in convert_directory\n",
            "    convert_dicom.dicom_array_to_nifti(dicom_input, nifti_file, reorient)\n",
            "  File \"/usr/local/lib/python3.11/dist-packages/dicom2nifti/convert_dicom.py\", line 121, in dicom_array_to_nifti\n",
            "    results = convert_siemens.dicom_to_nifti(dicom_list, output_file)\n",
            "              ^^^^^^^^^^^^^^^^^^^^^^^^^^^^^^^^^^^^^^^^^^^^^^^^^^^^^^^\n",
            "  File \"/usr/local/lib/python3.11/dist-packages/dicom2nifti/convert_siemens.py\", line 67, in dicom_to_nifti\n",
            "    return _mosaic_4d_to_nifti(dicom_input, output_file)\n",
            "           ^^^^^^^^^^^^^^^^^^^^^^^^^^^^^^^^^^^^^^^^^^^^^\n",
            "  File \"/usr/local/lib/python3.11/dist-packages/dicom2nifti/convert_siemens.py\", line 159, in _mosaic_4d_to_nifti\n",
            "    full_block = _mosaic_get_full_block(sorted_mosaics)\n",
            "                 ^^^^^^^^^^^^^^^^^^^^^^^^^^^^^^^^^^^^^^\n",
            "  File \"/usr/local/lib/python3.11/dist-packages/dicom2nifti/convert_siemens.py\", line 368, in _mosaic_get_full_block\n",
            "    data_blocks.append(_mosaic_to_block(sorted_mosaics[index]))\n",
            "                       ^^^^^^^^^^^^^^^^^^^^^^^^^^^^^^^^^^^^^^^\n",
            "  File \"/usr/local/lib/python3.11/dist-packages/dicom2nifti/convert_siemens.py\", line 481, in _mosaic_to_block\n",
            "    mosaic_type = _get_mosaic_type(mosaic)\n",
            "                  ^^^^^^^^^^^^^^^^^^^^^^^^\n",
            "  File \"/usr/local/lib/python3.11/dist-packages/dicom2nifti/convert_siemens.py\", line 419, in _get_mosaic_type\n",
            "    ascconv_headers = _get_asconv_headers(mosaic)\n",
            "                      ^^^^^^^^^^^^^^^^^^^^^^^^^^^\n",
            "  File \"/usr/local/lib/python3.11/dist-packages/dicom2nifti/convert_siemens.py\", line 405, in _get_asconv_headers\n",
            "    mosaic[Tag(0x0029, 0x1020)].value.decode(encoding='ISO-8859-1'),\n",
            "    ~~~~~~^^^^^^^^^^^^^^^^^^^^^\n",
            "  File \"/usr/local/lib/python3.11/dist-packages/pydicom/dataset.py\", line 1051, in __getitem__\n",
            "    elem = self._dict[tag]\n",
            "           ~~~~~~~~~~^^^^^\n",
            "KeyError: (0029,1020)\n"
          ]
        },
        {
          "name": "stdout",
          "output_type": "stream",
          "text": [
            "✅ Converted: UPENN-GBM-00332/38.000000-MDDW DTI AXIAL 30 DIRECTION-34462 → UNKNOWN\n",
            "✅ Converted: UPENN-GBM-00332/2.000000-T1 MPRAGE AXIAL IPAT ProcessedCaPTk-36040 → T1CE\n",
            "✅ Converted: UPENN-GBM-00332/3.000000-Axial T2 tse ProcessedCaPTk-25571 → T2\n",
            "✅ Converted: UPENN-GBM-00332/14.000000-t1 axial stealth-post  ProcessedCaPTk-64387 → T1CE\n",
            "✅ Converted: UPENN-GBM-00332/2.000000-t1 axial ProcessedCaPTk-53283 → T1CE\n"
          ]
        },
        {
          "name": "stderr",
          "output_type": "stream",
          "text": [
            "Traceback (most recent call last):\n",
            "  File \"/usr/local/lib/python3.11/dist-packages/dicom2nifti/convert_dir.py\", line 86, in convert_directory\n",
            "    convert_dicom.dicom_array_to_nifti(dicom_input, nifti_file, reorient)\n",
            "  File \"/usr/local/lib/python3.11/dist-packages/dicom2nifti/convert_dicom.py\", line 121, in dicom_array_to_nifti\n",
            "    results = convert_siemens.dicom_to_nifti(dicom_list, output_file)\n",
            "              ^^^^^^^^^^^^^^^^^^^^^^^^^^^^^^^^^^^^^^^^^^^^^^^^^^^^^^^\n",
            "  File \"/usr/local/lib/python3.11/dist-packages/dicom2nifti/convert_siemens.py\", line 67, in dicom_to_nifti\n",
            "    return _mosaic_4d_to_nifti(dicom_input, output_file)\n",
            "           ^^^^^^^^^^^^^^^^^^^^^^^^^^^^^^^^^^^^^^^^^^^^^\n",
            "  File \"/usr/local/lib/python3.11/dist-packages/dicom2nifti/convert_siemens.py\", line 159, in _mosaic_4d_to_nifti\n",
            "    full_block = _mosaic_get_full_block(sorted_mosaics)\n",
            "                 ^^^^^^^^^^^^^^^^^^^^^^^^^^^^^^^^^^^^^^\n",
            "  File \"/usr/local/lib/python3.11/dist-packages/dicom2nifti/convert_siemens.py\", line 368, in _mosaic_get_full_block\n",
            "    data_blocks.append(_mosaic_to_block(sorted_mosaics[index]))\n",
            "                       ^^^^^^^^^^^^^^^^^^^^^^^^^^^^^^^^^^^^^^^\n",
            "  File \"/usr/local/lib/python3.11/dist-packages/dicom2nifti/convert_siemens.py\", line 481, in _mosaic_to_block\n",
            "    mosaic_type = _get_mosaic_type(mosaic)\n",
            "                  ^^^^^^^^^^^^^^^^^^^^^^^^\n",
            "  File \"/usr/local/lib/python3.11/dist-packages/dicom2nifti/convert_siemens.py\", line 419, in _get_mosaic_type\n",
            "    ascconv_headers = _get_asconv_headers(mosaic)\n",
            "                      ^^^^^^^^^^^^^^^^^^^^^^^^^^^\n",
            "  File \"/usr/local/lib/python3.11/dist-packages/dicom2nifti/convert_siemens.py\", line 405, in _get_asconv_headers\n",
            "    mosaic[Tag(0x0029, 0x1020)].value.decode(encoding='ISO-8859-1'),\n",
            "    ~~~~~~^^^^^^^^^^^^^^^^^^^^^\n",
            "  File \"/usr/local/lib/python3.11/dist-packages/pydicom/dataset.py\", line 1051, in __getitem__\n",
            "    elem = self._dict[tag]\n",
            "           ~~~~~~~~~~^^^^^\n",
            "KeyError: (0029,1020)\n"
          ]
        },
        {
          "name": "stdout",
          "output_type": "stream",
          "text": [
            "✅ Converted: UPENN-GBM-00332/4.000000-ep2dDTI30dir-80330 → UNKNOWN\n",
            "✅ Converted: UPENN-GBM-00332/13.000000-ep2dperf BOLUS-80875 → UNKNOWN\n",
            "✅ Converted: UPENN-GBM-00332/45.000000-T2 AXIAL FLAIR ProcessedCaPTk-26314 → FLAIR\n",
            "✅ Converted: UPENN-GBM-00332/48.000000-AX T1 3D POST STEALTH  ProcessedCaPTk-58274 → T1CE\n",
            "✅ Converted: UPENN-GBM-00332/36.000000-T2 AXIAL ProcessedCaPTk-38449 → T2\n",
            "✅ Converted: UPENN-GBM-00160/15.000000-t1 axial stealth-post  ProcessedCaPTk-43012 → T1CE\n",
            "✅ Converted: UPENN-GBM-00160/13.000000-t2Flairaxial ProcessedCaPTk-87327 → FLAIR\n",
            "✅ Converted: UPENN-GBM-00160/4.000000-Axial T2 tse ProcessedCaPTk-85932 → T2\n",
            "✅ Converted: UPENN-GBM-00160/36.000000-PERFUSION BOLUS-55755 → UNKNOWN\n"
          ]
        },
        {
          "name": "stderr",
          "output_type": "stream",
          "text": [
            "Traceback (most recent call last):\n",
            "  File \"/usr/local/lib/python3.11/dist-packages/dicom2nifti/convert_dir.py\", line 86, in convert_directory\n",
            "    convert_dicom.dicom_array_to_nifti(dicom_input, nifti_file, reorient)\n",
            "  File \"/usr/local/lib/python3.11/dist-packages/dicom2nifti/convert_dicom.py\", line 121, in dicom_array_to_nifti\n",
            "    results = convert_siemens.dicom_to_nifti(dicom_list, output_file)\n",
            "              ^^^^^^^^^^^^^^^^^^^^^^^^^^^^^^^^^^^^^^^^^^^^^^^^^^^^^^^\n",
            "  File \"/usr/local/lib/python3.11/dist-packages/dicom2nifti/convert_siemens.py\", line 67, in dicom_to_nifti\n",
            "    return _mosaic_4d_to_nifti(dicom_input, output_file)\n",
            "           ^^^^^^^^^^^^^^^^^^^^^^^^^^^^^^^^^^^^^^^^^^^^^\n",
            "  File \"/usr/local/lib/python3.11/dist-packages/dicom2nifti/convert_siemens.py\", line 159, in _mosaic_4d_to_nifti\n",
            "    full_block = _mosaic_get_full_block(sorted_mosaics)\n",
            "                 ^^^^^^^^^^^^^^^^^^^^^^^^^^^^^^^^^^^^^^\n",
            "  File \"/usr/local/lib/python3.11/dist-packages/dicom2nifti/convert_siemens.py\", line 368, in _mosaic_get_full_block\n",
            "    data_blocks.append(_mosaic_to_block(sorted_mosaics[index]))\n",
            "                       ^^^^^^^^^^^^^^^^^^^^^^^^^^^^^^^^^^^^^^^\n",
            "  File \"/usr/local/lib/python3.11/dist-packages/dicom2nifti/convert_siemens.py\", line 481, in _mosaic_to_block\n",
            "    mosaic_type = _get_mosaic_type(mosaic)\n",
            "                  ^^^^^^^^^^^^^^^^^^^^^^^^\n",
            "  File \"/usr/local/lib/python3.11/dist-packages/dicom2nifti/convert_siemens.py\", line 419, in _get_mosaic_type\n",
            "    ascconv_headers = _get_asconv_headers(mosaic)\n",
            "                      ^^^^^^^^^^^^^^^^^^^^^^^^^^^\n",
            "  File \"/usr/local/lib/python3.11/dist-packages/dicom2nifti/convert_siemens.py\", line 405, in _get_asconv_headers\n",
            "    mosaic[Tag(0x0029, 0x1020)].value.decode(encoding='ISO-8859-1'),\n",
            "    ~~~~~~^^^^^^^^^^^^^^^^^^^^^\n",
            "  File \"/usr/local/lib/python3.11/dist-packages/pydicom/dataset.py\", line 1051, in __getitem__\n",
            "    elem = self._dict[tag]\n",
            "           ~~~~~~~~~~^^^^^\n",
            "KeyError: (0029,1020)\n"
          ]
        },
        {
          "name": "stdout",
          "output_type": "stream",
          "text": [
            "✅ Converted: UPENN-GBM-00160/28.000000-MDDW DTI AXIAL 30 DIRECTION-66588 → UNKNOWN\n",
            "✅ Converted: UPENN-GBM-00160/3.000000-t1 axial ProcessedCaPTk-14396 → T1CE\n"
          ]
        },
        {
          "name": "stderr",
          "output_type": "stream",
          "text": [
            "Traceback (most recent call last):\n",
            "  File \"/usr/local/lib/python3.11/dist-packages/dicom2nifti/convert_dir.py\", line 86, in convert_directory\n",
            "    convert_dicom.dicom_array_to_nifti(dicom_input, nifti_file, reorient)\n",
            "  File \"/usr/local/lib/python3.11/dist-packages/dicom2nifti/convert_dicom.py\", line 121, in dicom_array_to_nifti\n",
            "    results = convert_siemens.dicom_to_nifti(dicom_list, output_file)\n",
            "              ^^^^^^^^^^^^^^^^^^^^^^^^^^^^^^^^^^^^^^^^^^^^^^^^^^^^^^^\n",
            "  File \"/usr/local/lib/python3.11/dist-packages/dicom2nifti/convert_siemens.py\", line 67, in dicom_to_nifti\n",
            "    return _mosaic_4d_to_nifti(dicom_input, output_file)\n",
            "           ^^^^^^^^^^^^^^^^^^^^^^^^^^^^^^^^^^^^^^^^^^^^^\n",
            "  File \"/usr/local/lib/python3.11/dist-packages/dicom2nifti/convert_siemens.py\", line 159, in _mosaic_4d_to_nifti\n",
            "    full_block = _mosaic_get_full_block(sorted_mosaics)\n",
            "                 ^^^^^^^^^^^^^^^^^^^^^^^^^^^^^^^^^^^^^^\n",
            "  File \"/usr/local/lib/python3.11/dist-packages/dicom2nifti/convert_siemens.py\", line 368, in _mosaic_get_full_block\n",
            "    data_blocks.append(_mosaic_to_block(sorted_mosaics[index]))\n",
            "                       ^^^^^^^^^^^^^^^^^^^^^^^^^^^^^^^^^^^^^^^\n",
            "  File \"/usr/local/lib/python3.11/dist-packages/dicom2nifti/convert_siemens.py\", line 481, in _mosaic_to_block\n",
            "    mosaic_type = _get_mosaic_type(mosaic)\n",
            "                  ^^^^^^^^^^^^^^^^^^^^^^^^\n",
            "  File \"/usr/local/lib/python3.11/dist-packages/dicom2nifti/convert_siemens.py\", line 419, in _get_mosaic_type\n",
            "    ascconv_headers = _get_asconv_headers(mosaic)\n",
            "                      ^^^^^^^^^^^^^^^^^^^^^^^^^^^\n",
            "  File \"/usr/local/lib/python3.11/dist-packages/dicom2nifti/convert_siemens.py\", line 405, in _get_asconv_headers\n",
            "    mosaic[Tag(0x0029, 0x1020)].value.decode(encoding='ISO-8859-1'),\n",
            "    ~~~~~~^^^^^^^^^^^^^^^^^^^^^\n",
            "  File \"/usr/local/lib/python3.11/dist-packages/pydicom/dataset.py\", line 1051, in __getitem__\n",
            "    elem = self._dict[tag]\n",
            "           ~~~~~~~~~~^^^^^\n",
            "KeyError: (0029,1020)\n"
          ]
        },
        {
          "name": "stdout",
          "output_type": "stream",
          "text": [
            "✅ Converted: UPENN-GBM-00160/6.000000-ep2dDTI30dir-17946 → UNKNOWN\n",
            "✅ Converted: UPENN-GBM-00160/25.000000-T2 AXIAL ProcessedCaPTk-64934 → T2\n",
            "✅ Converted: UPENN-GBM-00160/37.000000-AX T1 3D POST STEALTH  ProcessedCaPTk-69862 → T1CE\n",
            "✅ Converted: UPENN-GBM-00160/2.000000-T1 MPRAGE AXIAL IPAT ProcessedCaPTk-49155 → T1CE\n",
            "✅ Converted: UPENN-GBM-00160/35.000000-T2 AXIAL FLAIR ProcessedCaPTk-37652 → FLAIR\n",
            "✅ Converted: UPENN-GBM-00197/14.000000-t2Flairaxial ProcessedCaPTk-49432 → FLAIR\n",
            "✅ Converted: UPENN-GBM-00197/3.000000-Axial T2 tse ProcessedCaPTk-47897 → T2\n"
          ]
        },
        {
          "name": "stderr",
          "output_type": "stream",
          "text": [
            "Traceback (most recent call last):\n",
            "  File \"/usr/local/lib/python3.11/dist-packages/dicom2nifti/convert_dir.py\", line 86, in convert_directory\n",
            "    convert_dicom.dicom_array_to_nifti(dicom_input, nifti_file, reorient)\n",
            "  File \"/usr/local/lib/python3.11/dist-packages/dicom2nifti/convert_dicom.py\", line 121, in dicom_array_to_nifti\n",
            "    results = convert_siemens.dicom_to_nifti(dicom_list, output_file)\n",
            "              ^^^^^^^^^^^^^^^^^^^^^^^^^^^^^^^^^^^^^^^^^^^^^^^^^^^^^^^\n",
            "  File \"/usr/local/lib/python3.11/dist-packages/dicom2nifti/convert_siemens.py\", line 67, in dicom_to_nifti\n",
            "    return _mosaic_4d_to_nifti(dicom_input, output_file)\n",
            "           ^^^^^^^^^^^^^^^^^^^^^^^^^^^^^^^^^^^^^^^^^^^^^\n",
            "  File \"/usr/local/lib/python3.11/dist-packages/dicom2nifti/convert_siemens.py\", line 159, in _mosaic_4d_to_nifti\n",
            "    full_block = _mosaic_get_full_block(sorted_mosaics)\n",
            "                 ^^^^^^^^^^^^^^^^^^^^^^^^^^^^^^^^^^^^^^\n",
            "  File \"/usr/local/lib/python3.11/dist-packages/dicom2nifti/convert_siemens.py\", line 368, in _mosaic_get_full_block\n",
            "    data_blocks.append(_mosaic_to_block(sorted_mosaics[index]))\n",
            "                       ^^^^^^^^^^^^^^^^^^^^^^^^^^^^^^^^^^^^^^^\n",
            "  File \"/usr/local/lib/python3.11/dist-packages/dicom2nifti/convert_siemens.py\", line 481, in _mosaic_to_block\n",
            "    mosaic_type = _get_mosaic_type(mosaic)\n",
            "                  ^^^^^^^^^^^^^^^^^^^^^^^^\n",
            "  File \"/usr/local/lib/python3.11/dist-packages/dicom2nifti/convert_siemens.py\", line 419, in _get_mosaic_type\n",
            "    ascconv_headers = _get_asconv_headers(mosaic)\n",
            "                      ^^^^^^^^^^^^^^^^^^^^^^^^^^^\n",
            "  File \"/usr/local/lib/python3.11/dist-packages/dicom2nifti/convert_siemens.py\", line 405, in _get_asconv_headers\n",
            "    mosaic[Tag(0x0029, 0x1020)].value.decode(encoding='ISO-8859-1'),\n",
            "    ~~~~~~^^^^^^^^^^^^^^^^^^^^^\n",
            "  File \"/usr/local/lib/python3.11/dist-packages/pydicom/dataset.py\", line 1051, in __getitem__\n",
            "    elem = self._dict[tag]\n",
            "           ~~~~~~~~~~^^^^^\n",
            "KeyError: (0029,1020)\n"
          ]
        },
        {
          "name": "stdout",
          "output_type": "stream",
          "text": [
            "✅ Converted: UPENN-GBM-00197/4.000000-ep2dDTI30dir-53537 → UNKNOWN\n",
            "✅ Converted: UPENN-GBM-00197/13.000000-ep2dperf BOLUS-40689 → UNKNOWN\n",
            "✅ Converted: UPENN-GBM-00197/16.000000-t1 axial stealth-post  ProcessedCaPTk-90375 → T1CE\n"
          ]
        },
        {
          "name": "stderr",
          "output_type": "stream",
          "text": [
            "Traceback (most recent call last):\n",
            "  File \"/usr/local/lib/python3.11/dist-packages/dicom2nifti/convert_dir.py\", line 86, in convert_directory\n",
            "    convert_dicom.dicom_array_to_nifti(dicom_input, nifti_file, reorient)\n",
            "  File \"/usr/local/lib/python3.11/dist-packages/dicom2nifti/convert_dicom.py\", line 121, in dicom_array_to_nifti\n",
            "    results = convert_siemens.dicom_to_nifti(dicom_list, output_file)\n",
            "              ^^^^^^^^^^^^^^^^^^^^^^^^^^^^^^^^^^^^^^^^^^^^^^^^^^^^^^^\n",
            "  File \"/usr/local/lib/python3.11/dist-packages/dicom2nifti/convert_siemens.py\", line 67, in dicom_to_nifti\n",
            "    return _mosaic_4d_to_nifti(dicom_input, output_file)\n",
            "           ^^^^^^^^^^^^^^^^^^^^^^^^^^^^^^^^^^^^^^^^^^^^^\n",
            "  File \"/usr/local/lib/python3.11/dist-packages/dicom2nifti/convert_siemens.py\", line 159, in _mosaic_4d_to_nifti\n",
            "    full_block = _mosaic_get_full_block(sorted_mosaics)\n",
            "                 ^^^^^^^^^^^^^^^^^^^^^^^^^^^^^^^^^^^^^^\n",
            "  File \"/usr/local/lib/python3.11/dist-packages/dicom2nifti/convert_siemens.py\", line 368, in _mosaic_get_full_block\n",
            "    data_blocks.append(_mosaic_to_block(sorted_mosaics[index]))\n",
            "                       ^^^^^^^^^^^^^^^^^^^^^^^^^^^^^^^^^^^^^^^\n",
            "  File \"/usr/local/lib/python3.11/dist-packages/dicom2nifti/convert_siemens.py\", line 481, in _mosaic_to_block\n",
            "    mosaic_type = _get_mosaic_type(mosaic)\n",
            "                  ^^^^^^^^^^^^^^^^^^^^^^^^\n",
            "  File \"/usr/local/lib/python3.11/dist-packages/dicom2nifti/convert_siemens.py\", line 419, in _get_mosaic_type\n",
            "    ascconv_headers = _get_asconv_headers(mosaic)\n",
            "                      ^^^^^^^^^^^^^^^^^^^^^^^^^^^\n",
            "  File \"/usr/local/lib/python3.11/dist-packages/dicom2nifti/convert_siemens.py\", line 405, in _get_asconv_headers\n",
            "    mosaic[Tag(0x0029, 0x1020)].value.decode(encoding='ISO-8859-1'),\n",
            "    ~~~~~~^^^^^^^^^^^^^^^^^^^^^\n",
            "  File \"/usr/local/lib/python3.11/dist-packages/pydicom/dataset.py\", line 1051, in __getitem__\n",
            "    elem = self._dict[tag]\n",
            "           ~~~~~~~~~~^^^^^\n",
            "KeyError: (0029,1020)\n"
          ]
        },
        {
          "name": "stdout",
          "output_type": "stream",
          "text": [
            "✅ Converted: UPENN-GBM-00197/7.000000-ep2dDTI30dir-20401 → UNKNOWN\n",
            "✅ Converted: UPENN-GBM-00197/3.000000-t1 axial ProcessedCaPTk-31008 → T1CE\n",
            "✅ Converted: UPENN-GBM-00197/6.000000-Axial T2 tse ProcessedCaPTk-88251 → T2\n",
            "✅ Converted: UPENN-GBM-00197/14.000000-t1 axial stealth-post  ProcessedCaPTk-89352 → T1CE\n",
            "✅ Converted: UPENN-GBM-00197/2.000000-t1 axial ProcessedCaPTk-72818 → T1CE\n",
            "✅ Converted: UPENN-GBM-00197/12.000000-t2Flairaxial ProcessedCaPTk-37443 → FLAIR\n",
            "✅ Converted: UPENN-GBM-00344/15.000000-t1 axial stealth-post  ProcessedCaPTk-05594 → T1CE\n",
            "✅ Converted: UPENN-GBM-00344/15.000000-t1 axial stealth-post  ProcessedCaPTk-12672 → T1CE\n"
          ]
        },
        {
          "name": "stderr",
          "output_type": "stream",
          "text": [
            "Traceback (most recent call last):\n",
            "  File \"/usr/local/lib/python3.11/dist-packages/dicom2nifti/convert_dir.py\", line 86, in convert_directory\n",
            "    convert_dicom.dicom_array_to_nifti(dicom_input, nifti_file, reorient)\n",
            "  File \"/usr/local/lib/python3.11/dist-packages/dicom2nifti/convert_dicom.py\", line 121, in dicom_array_to_nifti\n",
            "    results = convert_siemens.dicom_to_nifti(dicom_list, output_file)\n",
            "              ^^^^^^^^^^^^^^^^^^^^^^^^^^^^^^^^^^^^^^^^^^^^^^^^^^^^^^^\n",
            "  File \"/usr/local/lib/python3.11/dist-packages/dicom2nifti/convert_siemens.py\", line 67, in dicom_to_nifti\n",
            "    return _mosaic_4d_to_nifti(dicom_input, output_file)\n",
            "           ^^^^^^^^^^^^^^^^^^^^^^^^^^^^^^^^^^^^^^^^^^^^^\n",
            "  File \"/usr/local/lib/python3.11/dist-packages/dicom2nifti/convert_siemens.py\", line 159, in _mosaic_4d_to_nifti\n",
            "    full_block = _mosaic_get_full_block(sorted_mosaics)\n",
            "                 ^^^^^^^^^^^^^^^^^^^^^^^^^^^^^^^^^^^^^^\n",
            "  File \"/usr/local/lib/python3.11/dist-packages/dicom2nifti/convert_siemens.py\", line 368, in _mosaic_get_full_block\n",
            "    data_blocks.append(_mosaic_to_block(sorted_mosaics[index]))\n",
            "                       ^^^^^^^^^^^^^^^^^^^^^^^^^^^^^^^^^^^^^^^\n",
            "  File \"/usr/local/lib/python3.11/dist-packages/dicom2nifti/convert_siemens.py\", line 481, in _mosaic_to_block\n",
            "    mosaic_type = _get_mosaic_type(mosaic)\n",
            "                  ^^^^^^^^^^^^^^^^^^^^^^^^\n",
            "  File \"/usr/local/lib/python3.11/dist-packages/dicom2nifti/convert_siemens.py\", line 419, in _get_mosaic_type\n",
            "    ascconv_headers = _get_asconv_headers(mosaic)\n",
            "                      ^^^^^^^^^^^^^^^^^^^^^^^^^^^\n",
            "  File \"/usr/local/lib/python3.11/dist-packages/dicom2nifti/convert_siemens.py\", line 405, in _get_asconv_headers\n",
            "    mosaic[Tag(0x0029, 0x1020)].value.decode(encoding='ISO-8859-1'),\n",
            "    ~~~~~~^^^^^^^^^^^^^^^^^^^^^\n",
            "  File \"/usr/local/lib/python3.11/dist-packages/pydicom/dataset.py\", line 1051, in __getitem__\n",
            "    elem = self._dict[tag]\n",
            "           ~~~~~~~~~~^^^^^\n",
            "KeyError: (0029,1020)\n"
          ]
        },
        {
          "name": "stdout",
          "output_type": "stream",
          "text": [
            "✅ Converted: UPENN-GBM-00344/6.000000-ep2dDTI30dir-73933 → UNKNOWN\n"
          ]
        },
        {
          "name": "stderr",
          "output_type": "stream",
          "text": [
            "Traceback (most recent call last):\n",
            "  File \"/usr/local/lib/python3.11/dist-packages/dicom2nifti/convert_dir.py\", line 86, in convert_directory\n",
            "    convert_dicom.dicom_array_to_nifti(dicom_input, nifti_file, reorient)\n",
            "  File \"/usr/local/lib/python3.11/dist-packages/dicom2nifti/convert_dicom.py\", line 121, in dicom_array_to_nifti\n",
            "    results = convert_siemens.dicom_to_nifti(dicom_list, output_file)\n",
            "              ^^^^^^^^^^^^^^^^^^^^^^^^^^^^^^^^^^^^^^^^^^^^^^^^^^^^^^^\n",
            "  File \"/usr/local/lib/python3.11/dist-packages/dicom2nifti/convert_siemens.py\", line 67, in dicom_to_nifti\n",
            "    return _mosaic_4d_to_nifti(dicom_input, output_file)\n",
            "           ^^^^^^^^^^^^^^^^^^^^^^^^^^^^^^^^^^^^^^^^^^^^^\n",
            "  File \"/usr/local/lib/python3.11/dist-packages/dicom2nifti/convert_siemens.py\", line 159, in _mosaic_4d_to_nifti\n",
            "    full_block = _mosaic_get_full_block(sorted_mosaics)\n",
            "                 ^^^^^^^^^^^^^^^^^^^^^^^^^^^^^^^^^^^^^^\n",
            "  File \"/usr/local/lib/python3.11/dist-packages/dicom2nifti/convert_siemens.py\", line 368, in _mosaic_get_full_block\n",
            "    data_blocks.append(_mosaic_to_block(sorted_mosaics[index]))\n",
            "                       ^^^^^^^^^^^^^^^^^^^^^^^^^^^^^^^^^^^^^^^\n",
            "  File \"/usr/local/lib/python3.11/dist-packages/dicom2nifti/convert_siemens.py\", line 481, in _mosaic_to_block\n",
            "    mosaic_type = _get_mosaic_type(mosaic)\n",
            "                  ^^^^^^^^^^^^^^^^^^^^^^^^\n",
            "  File \"/usr/local/lib/python3.11/dist-packages/dicom2nifti/convert_siemens.py\", line 419, in _get_mosaic_type\n",
            "    ascconv_headers = _get_asconv_headers(mosaic)\n",
            "                      ^^^^^^^^^^^^^^^^^^^^^^^^^^^\n",
            "  File \"/usr/local/lib/python3.11/dist-packages/dicom2nifti/convert_siemens.py\", line 405, in _get_asconv_headers\n",
            "    mosaic[Tag(0x0029, 0x1020)].value.decode(encoding='ISO-8859-1'),\n",
            "    ~~~~~~^^^^^^^^^^^^^^^^^^^^^\n",
            "  File \"/usr/local/lib/python3.11/dist-packages/pydicom/dataset.py\", line 1051, in __getitem__\n",
            "    elem = self._dict[tag]\n",
            "           ~~~~~~~~~~^^^^^\n",
            "KeyError: (0029,1020)\n"
          ]
        },
        {
          "name": "stdout",
          "output_type": "stream",
          "text": [
            "✅ Converted: UPENN-GBM-00344/5.000000-ep2dDTI30dir-25564 → UNKNOWN\n",
            "✅ Converted: UPENN-GBM-00344/14.000000-ep2dperf BOLUS-82411 → UNKNOWN\n",
            "✅ Converted: UPENN-GBM-00344/3.000000-Axial T2 tse ProcessedCaPTk-93335 → T2\n",
            "✅ Converted: UPENN-GBM-00344/3.000000-t1 axial ProcessedCaPTk-67800 → T1CE\n",
            "✅ Converted: UPENN-GBM-00344/13.000000-t2Flairaxial ProcessedCaPTk-52481 → FLAIR\n",
            "✅ Converted: UPENN-GBM-00344/2.000000-t1 axial ProcessedCaPTk-30671 → T1CE\n",
            "✅ Converted: UPENN-GBM-00344/4.000000-Axial T2 tse ProcessedCaPTk-78914 → T2\n",
            "✅ Converted: UPENN-GBM-00344/13.000000-t2Flairaxial ProcessedCaPTk-91604 → FLAIR\n",
            "✅ Converted: UPENN-GBM-00036/4.000000-Axial T2 tse ProcessedCaPTk-78870 → T2\n",
            "✅ Converted: UPENN-GBM-00036/15.000000-t1 axial stealth-post  ProcessedCaPTk-26131 → T1CE\n",
            "✅ Converted: UPENN-GBM-00036/14.000000-ep2dperf 12 CC BOLUS-75916 → UNKNOWN\n"
          ]
        },
        {
          "name": "stderr",
          "output_type": "stream",
          "text": [
            "Traceback (most recent call last):\n",
            "  File \"/usr/local/lib/python3.11/dist-packages/dicom2nifti/convert_dir.py\", line 86, in convert_directory\n",
            "    convert_dicom.dicom_array_to_nifti(dicom_input, nifti_file, reorient)\n",
            "  File \"/usr/local/lib/python3.11/dist-packages/dicom2nifti/convert_dicom.py\", line 121, in dicom_array_to_nifti\n",
            "    results = convert_siemens.dicom_to_nifti(dicom_list, output_file)\n",
            "              ^^^^^^^^^^^^^^^^^^^^^^^^^^^^^^^^^^^^^^^^^^^^^^^^^^^^^^^\n",
            "  File \"/usr/local/lib/python3.11/dist-packages/dicom2nifti/convert_siemens.py\", line 67, in dicom_to_nifti\n",
            "    return _mosaic_4d_to_nifti(dicom_input, output_file)\n",
            "           ^^^^^^^^^^^^^^^^^^^^^^^^^^^^^^^^^^^^^^^^^^^^^\n",
            "  File \"/usr/local/lib/python3.11/dist-packages/dicom2nifti/convert_siemens.py\", line 159, in _mosaic_4d_to_nifti\n",
            "    full_block = _mosaic_get_full_block(sorted_mosaics)\n",
            "                 ^^^^^^^^^^^^^^^^^^^^^^^^^^^^^^^^^^^^^^\n",
            "  File \"/usr/local/lib/python3.11/dist-packages/dicom2nifti/convert_siemens.py\", line 368, in _mosaic_get_full_block\n",
            "    data_blocks.append(_mosaic_to_block(sorted_mosaics[index]))\n",
            "                       ^^^^^^^^^^^^^^^^^^^^^^^^^^^^^^^^^^^^^^^\n",
            "  File \"/usr/local/lib/python3.11/dist-packages/dicom2nifti/convert_siemens.py\", line 481, in _mosaic_to_block\n",
            "    mosaic_type = _get_mosaic_type(mosaic)\n",
            "                  ^^^^^^^^^^^^^^^^^^^^^^^^\n",
            "  File \"/usr/local/lib/python3.11/dist-packages/dicom2nifti/convert_siemens.py\", line 419, in _get_mosaic_type\n",
            "    ascconv_headers = _get_asconv_headers(mosaic)\n",
            "                      ^^^^^^^^^^^^^^^^^^^^^^^^^^^\n",
            "  File \"/usr/local/lib/python3.11/dist-packages/dicom2nifti/convert_siemens.py\", line 405, in _get_asconv_headers\n",
            "    mosaic[Tag(0x0029, 0x1020)].value.decode(encoding='ISO-8859-1'),\n",
            "    ~~~~~~^^^^^^^^^^^^^^^^^^^^^\n",
            "  File \"/usr/local/lib/python3.11/dist-packages/pydicom/dataset.py\", line 1051, in __getitem__\n",
            "    elem = self._dict[tag]\n",
            "           ~~~~~~~~~~^^^^^\n",
            "KeyError: (0029,1020)\n"
          ]
        },
        {
          "name": "stdout",
          "output_type": "stream",
          "text": [
            "✅ Converted: UPENN-GBM-00036/6.000000-ep2dDTI30dir-42124 → UNKNOWN\n",
            "✅ Converted: UPENN-GBM-00036/14.000000-ep2dperf BOLUS-40443 → UNKNOWN\n"
          ]
        },
        {
          "name": "stderr",
          "output_type": "stream",
          "text": [
            "Traceback (most recent call last):\n",
            "  File \"/usr/local/lib/python3.11/dist-packages/dicom2nifti/convert_dir.py\", line 86, in convert_directory\n",
            "    convert_dicom.dicom_array_to_nifti(dicom_input, nifti_file, reorient)\n",
            "  File \"/usr/local/lib/python3.11/dist-packages/dicom2nifti/convert_dicom.py\", line 121, in dicom_array_to_nifti\n",
            "    results = convert_siemens.dicom_to_nifti(dicom_list, output_file)\n",
            "              ^^^^^^^^^^^^^^^^^^^^^^^^^^^^^^^^^^^^^^^^^^^^^^^^^^^^^^^\n",
            "  File \"/usr/local/lib/python3.11/dist-packages/dicom2nifti/convert_siemens.py\", line 67, in dicom_to_nifti\n",
            "    return _mosaic_4d_to_nifti(dicom_input, output_file)\n",
            "           ^^^^^^^^^^^^^^^^^^^^^^^^^^^^^^^^^^^^^^^^^^^^^\n",
            "  File \"/usr/local/lib/python3.11/dist-packages/dicom2nifti/convert_siemens.py\", line 159, in _mosaic_4d_to_nifti\n",
            "    full_block = _mosaic_get_full_block(sorted_mosaics)\n",
            "                 ^^^^^^^^^^^^^^^^^^^^^^^^^^^^^^^^^^^^^^\n",
            "  File \"/usr/local/lib/python3.11/dist-packages/dicom2nifti/convert_siemens.py\", line 368, in _mosaic_get_full_block\n",
            "    data_blocks.append(_mosaic_to_block(sorted_mosaics[index]))\n",
            "                       ^^^^^^^^^^^^^^^^^^^^^^^^^^^^^^^^^^^^^^^\n",
            "  File \"/usr/local/lib/python3.11/dist-packages/dicom2nifti/convert_siemens.py\", line 481, in _mosaic_to_block\n",
            "    mosaic_type = _get_mosaic_type(mosaic)\n",
            "                  ^^^^^^^^^^^^^^^^^^^^^^^^\n",
            "  File \"/usr/local/lib/python3.11/dist-packages/dicom2nifti/convert_siemens.py\", line 419, in _get_mosaic_type\n",
            "    ascconv_headers = _get_asconv_headers(mosaic)\n",
            "                      ^^^^^^^^^^^^^^^^^^^^^^^^^^^\n",
            "  File \"/usr/local/lib/python3.11/dist-packages/dicom2nifti/convert_siemens.py\", line 405, in _get_asconv_headers\n",
            "    mosaic[Tag(0x0029, 0x1020)].value.decode(encoding='ISO-8859-1'),\n",
            "    ~~~~~~^^^^^^^^^^^^^^^^^^^^^\n",
            "  File \"/usr/local/lib/python3.11/dist-packages/pydicom/dataset.py\", line 1051, in __getitem__\n",
            "    elem = self._dict[tag]\n",
            "           ~~~~~~~~~~^^^^^\n",
            "KeyError: (0029,1020)\n"
          ]
        },
        {
          "name": "stdout",
          "output_type": "stream",
          "text": [
            "✅ Converted: UPENN-GBM-00036/6.000000-ep2dDTI30dir-92948 → UNKNOWN\n",
            "✅ Converted: UPENN-GBM-00036/3.000000-t1 axial ProcessedCaPTk-71307 → T1CE\n",
            "✅ Converted: UPENN-GBM-00036/4.000000-Axial T2 tse ProcessedCaPTk-15559 → T2\n",
            "✅ Converted: UPENN-GBM-00036/15.000000-t1 axial stealth-post  ProcessedCaPTk-47953 → T1CE\n",
            "✅ Converted: UPENN-GBM-00036/2.000000-t1 axial ProcessedCaPTk-64456 → T1CE\n",
            "✅ Converted: UPENN-GBM-00036/13.000000-t2Flairaxial ProcessedCaPTk-28022 → FLAIR\n",
            "✅ Converted: UPENN-GBM-00036/13.000000-t2Flairaxial ProcessedCaPTk-59533 → FLAIR\n"
          ]
        }
      ],
      "source": [
        "import dicom2nifti\n",
        "import os\n",
        "import pydicom\n",
        "\n",
        "def clean_modality_name(name):\n",
        "    name = name.upper()\n",
        "    if 'FLAIR' in name:\n",
        "        return 'FLAIR'\n",
        "    if 'T1' in name and ('C' in name or 'CE' in name or 'POST' in name):\n",
        "        return 'T1CE'\n",
        "    if 'T1' in name:\n",
        "        return 'T1'\n",
        "    if 'T2' in name:\n",
        "        return 'T2'\n",
        "    if 'ADC' in name:\n",
        "        return 'ADC'\n",
        "    if 'DWI' in name:\n",
        "        return 'DWI'\n",
        "    if 'MRS' in name or 'SPECTRO' in name:\n",
        "        return 'MRS'\n",
        "    return 'UNKNOWN'\n",
        "\n",
        "# ✅ Corrected path\n",
        "base_dir = '/content/drive/MyDrive/UPENN_GBM_Top10/manifest-1669766397961/UPENN-GBM'\n",
        "output_dir = '/content/drive/MyDrive/UPENN_GBM_Top10_NIfTI_Converted_Modality'\n",
        "os.makedirs(output_dir, exist_ok=True)\n",
        "\n",
        "for patient in os.listdir(base_dir):\n",
        "    patient_path = os.path.join(base_dir, patient)\n",
        "    if not os.path.isdir(patient_path):\n",
        "        continue\n",
        "\n",
        "    for series_folder in os.listdir(patient_path):\n",
        "        series_path = os.path.join(patient_path, series_folder)\n",
        "        if not os.path.isdir(series_path):\n",
        "            continue\n",
        "\n",
        "        for sub in os.listdir(series_path):\n",
        "            sub_path = os.path.join(series_path, sub)\n",
        "            if not os.path.isdir(sub_path):\n",
        "                continue\n",
        "\n",
        "            try:\n",
        "                dicom_files = [f for f in os.listdir(sub_path) if f.endswith('.dcm')]\n",
        "                if not dicom_files:\n",
        "                    continue\n",
        "\n",
        "                dcm_sample = pydicom.dcmread(os.path.join(sub_path, dicom_files[0]), stop_before_pixels=True)\n",
        "                modality = clean_modality_name(str(dcm_sample.SeriesDescription))\n",
        "\n",
        "                nifti_filename = f\"{patient}_{modality}_{sub}.nii.gz\"\n",
        "                output_path = os.path.join(output_dir, nifti_filename)\n",
        "\n",
        "                dicom2nifti.convert_directory(sub_path, output_dir, compression=True, reorient=True)\n",
        "                print(f\"✅ Converted: {patient}/{sub} → {modality}\")\n",
        "\n",
        "            except Exception as e:\n",
        "                print(f\"❌ Failed to convert {sub_path}: {e}\")\n"
      ]
    },
    {
      "cell_type": "code",
      "execution_count": null,
      "metadata": {
        "colab": {
          "base_uri": "https://localhost:8080/"
        },
        "id": "SOsxVK9Bt0g3",
        "outputId": "45ad6ce9-abf7-4ece-dd08-58ccd1f53b49"
      },
      "outputs": [
        {
          "name": "stdout",
          "output_type": "stream",
          "text": [
            "🧠 Total NIfTI files: 51\n",
            "11_axial_t2_flair_processed_captk.nii.gz\n",
            "12_t2_flair_axial_processed_captk.nii.gz\n",
            "13_ep2d_perf_bolus.nii.gz\n",
            "13_t1_mprage_ax_processed_captk.nii.gz\n",
            "13_t2_flair_axial_processed_captk.nii.gz\n",
            "14_ep2d_perf_12_cc_bolus.nii.gz\n",
            "14_ep2d_perf_bolus.nii.gz\n",
            "14_t1_axial_stealth-post__processed_captk.nii.gz\n",
            "14_t2_flair_axial_processed_captk.nii.gz\n",
            "15_ep2d_perf_bolus.nii.gz\n"
          ]
        }
      ],
      "source": [
        "import os\n",
        "\n",
        "nifti_output_dir = '/content/drive/MyDrive/UPENN_GBM_Top10_NIfTI_Converted_Modality'\n",
        "\n",
        "files = sorted([f for f in os.listdir(nifti_output_dir) if f.endswith('.nii.gz')])\n",
        "\n",
        "print(f\"🧠 Total NIfTI files: {len(files)}\")\n",
        "print(\"\\n\".join(files[:10]))  # Show first 10 files\n"
      ]
    },
    {
      "cell_type": "code",
      "execution_count": null,
      "metadata": {
        "colab": {
          "base_uri": "https://localhost:8080/"
        },
        "id": "6rqWtIjftQGr",
        "outputId": "d4cb818f-b5c1-44d1-b54b-56efcb56a3df"
      },
      "outputs": [
        {
          "name": "stdout",
          "output_type": "stream",
          "text": [
            "\n",
            "✅ Found 3 patients with at least 2 key modalities:\n",
            "\n",
            "🧠 Patient 6: ['T1CE', 'T2']\n",
            "🧠 Patient 3: ['T1CE', 'T2']\n",
            "🧠 Patient 4: ['T1CE', 'T2']\n"
          ]
        }
      ],
      "source": [
        "import os\n",
        "from collections import defaultdict\n",
        "\n",
        "nifti_output_dir = '/content/drive/MyDrive/UPENN_GBM_Top10_NIfTI_Converted_Modality'\n",
        "key_modalities = {\"T1\", \"T1CE\", \"T2\"}\n",
        "\n",
        "patient_modalities = defaultdict(set)\n",
        "\n",
        "def identify_modality(name):\n",
        "    name = name.upper()\n",
        "    if 'FLAIR' in name:\n",
        "        return 'FLAIR'\n",
        "    if 'T1' in name and ('C' in name or 'CE' in name or 'POST' in name or 'STEALTH' in name):\n",
        "        return 'T1CE'\n",
        "    if 'T1' in name:\n",
        "        return 'T1'\n",
        "    if 'T2' in name:\n",
        "        return 'T2'\n",
        "    return 'UNKNOWN'\n",
        "\n",
        "# Parse all .nii.gz files\n",
        "for fname in os.listdir(nifti_output_dir):\n",
        "    if not fname.endswith('.nii.gz'):\n",
        "        continue\n",
        "    parts = fname.split('_')\n",
        "    patient_id = parts[0]\n",
        "    modality = identify_modality(fname)\n",
        "    if modality in key_modalities:\n",
        "        patient_modalities[patient_id].add(modality)\n",
        "\n",
        "# Keep patients with at least 2 modalities\n",
        "selected_patients = []\n",
        "for pid, mods in patient_modalities.items():\n",
        "    if len(mods) >= 2:\n",
        "        selected_patients.append((pid, sorted(mods)))\n",
        "\n",
        "# Output result\n",
        "print(f\"\\n✅ Found {len(selected_patients)} patients with at least 2 key modalities:\\n\")\n",
        "for pid, mods in selected_patients:\n",
        "    print(f\"🧠 Patient {pid}: {mods}\")\n"
      ]
    },
    {
      "cell_type": "code",
      "execution_count": null,
      "metadata": {
        "colab": {
          "base_uri": "https://localhost:8080/",
          "height": 416
        },
        "id": "UjaCJVD1y60M",
        "outputId": "cb0cce67-8fa3-43ea-e3bd-6c1eaaa69d91"
      },
      "outputs": [
        {
          "name": "stdout",
          "output_type": "stream",
          "text": [
            "✅ Loaded Patient 36\n",
            "✅ Loaded Patient 4\n",
            "✅ Loaded Patient 14\n"
          ]
        },
        {
          "data": {
            "image/png": "[encoded data removed]",
            "text/plain": [
              "<Figure size 800x400 with 2 Axes>"
            ]
          },
          "metadata": {},
          "output_type": "display_data"
        }
      ],
      "source": [
        "import os\n",
        "import numpy as np\n",
        "import nibabel as nib\n",
        "import tensorflow as tf\n",
        "import matplotlib.pyplot as plt\n",
        "from scipy.ndimage import zoom\n",
        "from sklearn.model_selection import train_test_split\n",
        "from collections import defaultdict\n",
        "\n",
        "# NIfTI file directory\n",
        "nifti_dir = '/content/drive/MyDrive/UPENN_GBM_Top10_NIfTI_Converted_Modality'\n",
        "TARGET_SHAPE = (64, 64, 32)\n",
        "\n",
        "def identify_modality(filename):\n",
        "    name = filename.lower()\n",
        "    if 'stealth' in name or 'post' in name:\n",
        "        return 'T1CE'\n",
        "    if 't1' in name:\n",
        "        return 'T1'\n",
        "    if 't2' in name:\n",
        "        return 'T2'\n",
        "    return 'UNKNOWN'\n",
        "\n",
        "def load_nifti(path):\n",
        "    img = nib.load(path).get_fdata()\n",
        "    img = np.nan_to_num(img)\n",
        "    return (img - np.min(img)) / (np.max(img) - np.min(img) + 1e-5)\n",
        "\n",
        "def resize_volume(img, target_shape=TARGET_SHAPE):\n",
        "    zoom_factors = [t/s for t, s in zip(target_shape, img.shape)]\n",
        "    return zoom(img, zoom_factors, order=1)\n",
        "\n",
        "# Group modalities per patient\n",
        "patient_files = defaultdict(dict)\n",
        "\n",
        "for fname in os.listdir(nifti_dir):\n",
        "    if not fname.endswith('.nii.gz'):\n",
        "        continue\n",
        "    patient_id = fname.split('_')[0]  # e.g., '14'\n",
        "    modality = identify_modality(fname)\n",
        "    if modality in ['T1CE', 'T2']:\n",
        "        patient_files[patient_id][modality] = os.path.join(nifti_dir, fname)\n",
        "\n",
        "# Load patients that have both T1CE and T2\n",
        "X, Y = [], []\n",
        "\n",
        "for pid, modalities in patient_files.items():\n",
        "    if 'T1CE' in modalities and 'T2' in modalities:\n",
        "        try:\n",
        "            t1ce = resize_volume(load_nifti(modalities['T1CE']))\n",
        "            t2 = resize_volume(load_nifti(modalities['T2']))\n",
        "            X.append(t1ce[..., np.newaxis])  # Add channel dim\n",
        "            Y.append(t2[..., np.newaxis])\n",
        "            print(f\"✅ Loaded Patient {pid}\")\n",
        "        except Exception as e:\n",
        "            print(f\"❌ Error loading {pid}: {e}\")\n",
        "\n",
        "X = np.array(X, dtype=np.float32)\n",
        "Y = np.array(Y, dtype=np.float32)\n",
        "\n",
        "# Check and split\n",
        "if len(X) == 0:\n",
        "    raise ValueError(\"❌ No patients found with both T1CE and T2 modalities.\")\n",
        "\n",
        "X_train, X_val, Y_train, Y_val = train_test_split(X, Y, test_size=0.3, random_state=42)\n",
        "train_ds = tf.data.Dataset.from_tensor_slices((X_train, Y_train)).shuffle(10).batch(1)\n",
        "val_ds = tf.data.Dataset.from_tensor_slices((X_val, Y_val)).batch(1)\n",
        "\n",
        "# ✅ Visualize a sample\n",
        "plt.figure(figsize=(8, 4))\n",
        "plt.subplot(1, 2, 1)\n",
        "plt.title(\"T1CE Input\")\n",
        "plt.imshow(X_train[0][:, :, 16, 0], cmap='gray')  # use middle slice index 16\n",
        "\n",
        "plt.subplot(1, 2, 2)\n",
        "plt.title(\"T2 Target\")\n",
        "plt.imshow(Y_train[0][:, :, 16, 0], cmap='gray')\n",
        "plt.show()\n"
      ]
    },
    {
      "cell_type": "code",
      "execution_count": null,
      "metadata": {
        "id": "7FSgLhG627YS"
      },
      "outputs": [],
      "source": [
        "from tensorflow.keras import layers, models\n",
        "\n",
        "def build_mini_cnn_3d_fixed():\n",
        "    inputs = tf.keras.layers.Input(shape=(64, 64, 32, 1))\n",
        "\n",
        "    x = tf.keras.layers.Conv3D(8, (3,3,3), activation='relu', padding='same')(inputs)\n",
        "    x = tf.keras.layers.MaxPooling3D((2,2,2))(x)\n",
        "\n",
        "    x = tf.keras.layers.Conv3D(16, (3,3,3), activation='relu', padding='same')(x)\n",
        "    x = tf.keras.layers.UpSampling3D((2,2,2))(x)\n",
        "\n",
        "    x = tf.keras.layers.Conv3D(1, (3,3,3), activation='linear', padding='same')(x)  # <- no sigmoid!\n",
        "\n",
        "    return tf.keras.models.Model(inputs, x)\n",
        "\n",
        "model = build_mini_cnn_3d_fixed()\n",
        "model.compile(optimizer='adam', loss='mae')  # Try MAE instead of MSE\n"
      ]
    },
    {
      "cell_type": "code",
      "execution_count": null,
      "metadata": {
        "colab": {
          "base_uri": "https://localhost:8080/"
        },
        "id": "_KWpnZkK44Li",
        "outputId": "692f3960-eee0-4ca9-c870-7fc8f008cc31"
      },
      "outputs": [
        {
          "name": "stdout",
          "output_type": "stream",
          "text": [
            "Epoch 1/50\n",
            "\u001b[1m1/1\u001b[0m \u001b[32m━━━━━━━━━━━━━━━━━━━━\u001b[0m\u001b[37m\u001b[0m \u001b[1m2s\u001b[0m 2s/step - loss: 0.0952\n",
            "Epoch 2/50\n",
            "\u001b[1m1/1\u001b[0m \u001b[32m━━━━━━━━━━━━━━━━━━━━\u001b[0m\u001b[37m\u001b[0m \u001b[1m1s\u001b[0m 663ms/step - loss: 0.0752\n",
            "Epoch 3/50\n",
            "\u001b[1m1/1\u001b[0m \u001b[32m━━━━━━━━━━━━━━━━━━━━\u001b[0m\u001b[37m\u001b[0m \u001b[1m1s\u001b[0m 674ms/step - loss: 0.0607\n",
            "Epoch 4/50\n",
            "\u001b[1m1/1\u001b[0m \u001b[32m━━━━━━━━━━━━━━━━━━━━\u001b[0m\u001b[37m\u001b[0m \u001b[1m1s\u001b[0m 690ms/step - loss: 0.0523\n",
            "Epoch 5/50\n",
            "\u001b[1m1/1\u001b[0m \u001b[32m━━━━━━━━━━━━━━━━━━━━\u001b[0m\u001b[37m\u001b[0m \u001b[1m1s\u001b[0m 664ms/step - loss: 0.0486\n",
            "Epoch 6/50\n",
            "\u001b[1m1/1\u001b[0m \u001b[32m━━━━━━━━━━━━━━━━━━━━\u001b[0m\u001b[37m\u001b[0m \u001b[1m1s\u001b[0m 669ms/step - loss: 0.0481\n",
            "Epoch 7/50\n",
            "\u001b[1m1/1\u001b[0m \u001b[32m━━━━━━━━━━━━━━━━━━━━\u001b[0m\u001b[37m\u001b[0m \u001b[1m1s\u001b[0m 734ms/step - loss: 0.0491\n",
            "Epoch 8/50\n",
            "\u001b[1m1/1\u001b[0m \u001b[32m━━━━━━━━━━━━━━━━━━━━\u001b[0m\u001b[37m\u001b[0m \u001b[1m1s\u001b[0m 649ms/step - loss: 0.0496\n",
            "Epoch 9/50\n",
            "\u001b[1m1/1\u001b[0m \u001b[32m━━━━━━━━━━━━━━━━━━━━\u001b[0m\u001b[37m\u001b[0m \u001b[1m1s\u001b[0m 697ms/step - loss: 0.0487\n",
            "Epoch 10/50\n",
            "\u001b[1m1/1\u001b[0m \u001b[32m━━━━━━━━━━━━━━━━━━━━\u001b[0m\u001b[37m\u001b[0m \u001b[1m1s\u001b[0m 1s/step - loss: 0.0470\n",
            "Epoch 11/50\n",
            "\u001b[1m1/1\u001b[0m \u001b[32m━━━━━━━━━━━━━━━━━━━━\u001b[0m\u001b[37m\u001b[0m \u001b[1m1s\u001b[0m 730ms/step - loss: 0.0452\n",
            "Epoch 12/50\n",
            "\u001b[1m1/1\u001b[0m \u001b[32m━━━━━━━━━━━━━━━━━━━━\u001b[0m\u001b[37m\u001b[0m \u001b[1m1s\u001b[0m 1s/step - loss: 0.0438\n",
            "Epoch 13/50\n",
            "\u001b[1m1/1\u001b[0m \u001b[32m━━━━━━━━━━━━━━━━━━━━\u001b[0m\u001b[37m\u001b[0m \u001b[1m1s\u001b[0m 1s/step - loss: 0.0430\n",
            "Epoch 14/50\n",
            "\u001b[1m1/1\u001b[0m \u001b[32m━━━━━━━━━━━━━━━━━━━━\u001b[0m\u001b[37m\u001b[0m \u001b[1m1s\u001b[0m 1s/step - loss: 0.0428\n",
            "Epoch 15/50\n",
            "\u001b[1m1/1\u001b[0m \u001b[32m━━━━━━━━━━━━━━━━━━━━\u001b[0m\u001b[37m\u001b[0m \u001b[1m1s\u001b[0m 1s/step - loss: 0.0430\n",
            "Epoch 16/50\n",
            "\u001b[1m1/1\u001b[0m \u001b[32m━━━━━━━━━━━━━━━━━━━━\u001b[0m\u001b[37m\u001b[0m \u001b[1m1s\u001b[0m 661ms/step - loss: 0.0433\n",
            "Epoch 17/50\n",
            "\u001b[1m1/1\u001b[0m \u001b[32m━━━━━━━━━━━━━━━━━━━━\u001b[0m\u001b[37m\u001b[0m \u001b[1m1s\u001b[0m 657ms/step - loss: 0.0435\n",
            "Epoch 18/50\n",
            "\u001b[1m1/1\u001b[0m \u001b[32m━━━━━━━━━━━━━━━━━━━━\u001b[0m\u001b[37m\u001b[0m \u001b[1m1s\u001b[0m 665ms/step - loss: 0.0435\n",
            "Epoch 19/50\n",
            "\u001b[1m1/1\u001b[0m \u001b[32m━━━━━━━━━━━━━━━━━━━━\u001b[0m\u001b[37m\u001b[0m \u001b[1m1s\u001b[0m 648ms/step - loss: 0.0433\n",
            "Epoch 20/50\n",
            "\u001b[1m1/1\u001b[0m \u001b[32m━━━━━━━━━━━━━━━━━━━━\u001b[0m\u001b[37m\u001b[0m \u001b[1m1s\u001b[0m 675ms/step - loss: 0.0429\n",
            "Epoch 21/50\n",
            "\u001b[1m1/1\u001b[0m \u001b[32m━━━━━━━━━━━━━━━━━━━━\u001b[0m\u001b[37m\u001b[0m \u001b[1m1s\u001b[0m 659ms/step - loss: 0.0423\n",
            "Epoch 22/50\n",
            "\u001b[1m1/1\u001b[0m \u001b[32m━━━━━━━━━━━━━━━━━━━━\u001b[0m\u001b[37m\u001b[0m \u001b[1m1s\u001b[0m 674ms/step - loss: 0.0417\n",
            "Epoch 23/50\n",
            "\u001b[1m1/1\u001b[0m \u001b[32m━━━━━━━━━━━━━━━━━━━━\u001b[0m\u001b[37m\u001b[0m \u001b[1m1s\u001b[0m 665ms/step - loss: 0.0411\n",
            "Epoch 24/50\n",
            "\u001b[1m1/1\u001b[0m \u001b[32m━━━━━━━━━━━━━━━━━━━━\u001b[0m\u001b[37m\u001b[0m \u001b[1m1s\u001b[0m 638ms/step - loss: 0.0407\n",
            "Epoch 25/50\n",
            "\u001b[1m1/1\u001b[0m \u001b[32m━━━━━━━━━━━━━━━━━━━━\u001b[0m\u001b[37m\u001b[0m \u001b[1m1s\u001b[0m 671ms/step - loss: 0.0405\n",
            "Epoch 26/50\n",
            "\u001b[1m1/1\u001b[0m \u001b[32m━━━━━━━━━━━━━━━━━━━━\u001b[0m\u001b[37m\u001b[0m \u001b[1m1s\u001b[0m 658ms/step - loss: 0.0404\n",
            "Epoch 27/50\n",
            "\u001b[1m1/1\u001b[0m \u001b[32m━━━━━━━━━━━━━━━━━━━━\u001b[0m\u001b[37m\u001b[0m \u001b[1m1s\u001b[0m 658ms/step - loss: 0.0403\n",
            "Epoch 28/50\n",
            "\u001b[1m1/1\u001b[0m \u001b[32m━━━━━━━━━━━━━━━━━━━━\u001b[0m\u001b[37m\u001b[0m \u001b[1m1s\u001b[0m 673ms/step - loss: 0.0403\n",
            "Epoch 29/50\n",
            "\u001b[1m1/1\u001b[0m \u001b[32m━━━━━━━━━━━━━━━━━━━━\u001b[0m\u001b[37m\u001b[0m \u001b[1m1s\u001b[0m 663ms/step - loss: 0.0402\n",
            "Epoch 30/50\n",
            "\u001b[1m1/1\u001b[0m \u001b[32m━━━━━━━━━━━━━━━━━━━━\u001b[0m\u001b[37m\u001b[0m \u001b[1m1s\u001b[0m 685ms/step - loss: 0.0402\n",
            "Epoch 31/50\n",
            "\u001b[1m1/1\u001b[0m \u001b[32m━━━━━━━━━━━━━━━━━━━━\u001b[0m\u001b[37m\u001b[0m \u001b[1m1s\u001b[0m 995ms/step - loss: 0.0401\n",
            "Epoch 32/50\n",
            "\u001b[1m1/1\u001b[0m \u001b[32m━━━━━━━━━━━━━━━━━━━━\u001b[0m\u001b[37m\u001b[0m \u001b[1m1s\u001b[0m 1s/step - loss: 0.0401\n",
            "Epoch 33/50\n",
            "\u001b[1m1/1\u001b[0m \u001b[32m━━━━━━━━━━━━━━━━━━━━\u001b[0m\u001b[37m\u001b[0m \u001b[1m1s\u001b[0m 1s/step - loss: 0.0400\n",
            "Epoch 34/50\n",
            "\u001b[1m1/1\u001b[0m \u001b[32m━━━━━━━━━━━━━━━━━━━━\u001b[0m\u001b[37m\u001b[0m \u001b[1m1s\u001b[0m 1s/step - loss: 0.0398\n",
            "Epoch 35/50\n",
            "\u001b[1m1/1\u001b[0m \u001b[32m━━━━━━━━━━━━━━━━━━━━\u001b[0m\u001b[37m\u001b[0m \u001b[1m1s\u001b[0m 914ms/step - loss: 0.0396\n",
            "Epoch 36/50\n",
            "\u001b[1m1/1\u001b[0m \u001b[32m━━━━━━━━━━━━━━━━━━━━\u001b[0m\u001b[37m\u001b[0m \u001b[1m1s\u001b[0m 651ms/step - loss: 0.0395\n",
            "Epoch 37/50\n",
            "\u001b[1m1/1\u001b[0m \u001b[32m━━━━━━━━━━━━━━━━━━━━\u001b[0m\u001b[37m\u001b[0m \u001b[1m1s\u001b[0m 674ms/step - loss: 0.0394\n",
            "Epoch 38/50\n",
            "\u001b[1m1/1\u001b[0m \u001b[32m━━━━━━━━━━━━━━━━━━━━\u001b[0m\u001b[37m\u001b[0m \u001b[1m1s\u001b[0m 678ms/step - loss: 0.0392\n",
            "Epoch 39/50\n",
            "\u001b[1m1/1\u001b[0m \u001b[32m━━━━━━━━━━━━━━━━━━━━\u001b[0m\u001b[37m\u001b[0m \u001b[1m1s\u001b[0m 650ms/step - loss: 0.0391\n",
            "Epoch 40/50\n",
            "\u001b[1m1/1\u001b[0m \u001b[32m━━━━━━━━━━━━━━━━━━━━\u001b[0m\u001b[37m\u001b[0m \u001b[1m1s\u001b[0m 676ms/step - loss: 0.0390\n",
            "Epoch 41/50\n",
            "\u001b[1m1/1\u001b[0m \u001b[32m━━━━━━━━━━━━━━━━━━━━\u001b[0m\u001b[37m\u001b[0m \u001b[1m1s\u001b[0m 666ms/step - loss: 0.0389\n",
            "Epoch 42/50\n",
            "\u001b[1m1/1\u001b[0m \u001b[32m━━━━━━━━━━━━━━━━━━━━\u001b[0m\u001b[37m\u001b[0m \u001b[1m1s\u001b[0m 649ms/step - loss: 0.0388\n",
            "Epoch 43/50\n",
            "\u001b[1m1/1\u001b[0m \u001b[32m━━━━━━━━━━━━━━━━━━━━\u001b[0m\u001b[37m\u001b[0m \u001b[1m1s\u001b[0m 673ms/step - loss: 0.0388\n",
            "Epoch 44/50\n",
            "\u001b[1m1/1\u001b[0m \u001b[32m━━━━━━━━━━━━━━━━━━━━\u001b[0m\u001b[37m\u001b[0m \u001b[1m1s\u001b[0m 668ms/step - loss: 0.0388\n",
            "Epoch 45/50\n",
            "\u001b[1m1/1\u001b[0m \u001b[32m━━━━━━━━━━━━━━━━━━━━\u001b[0m\u001b[37m\u001b[0m \u001b[1m1s\u001b[0m 659ms/step - loss: 0.0387\n",
            "Epoch 46/50\n",
            "\u001b[1m1/1\u001b[0m \u001b[32m━━━━━━━━━━━━━━━━━━━━\u001b[0m\u001b[37m\u001b[0m \u001b[1m1s\u001b[0m 732ms/step - loss: 0.0386\n",
            "Epoch 47/50\n",
            "\u001b[1m1/1\u001b[0m \u001b[32m━━━━━━━━━━━━━━━━━━━━\u001b[0m\u001b[37m\u001b[0m \u001b[1m1s\u001b[0m 647ms/step - loss: 0.0385\n",
            "Epoch 48/50\n",
            "\u001b[1m1/1\u001b[0m \u001b[32m━━━━━━━━━━━━━━━━━━━━\u001b[0m\u001b[37m\u001b[0m \u001b[1m1s\u001b[0m 682ms/step - loss: 0.0385\n",
            "Epoch 49/50\n",
            "\u001b[1m1/1\u001b[0m \u001b[32m━━━━━━━━━━━━━━━━━━━━\u001b[0m\u001b[37m\u001b[0m \u001b[1m1s\u001b[0m 675ms/step - loss: 0.0384\n",
            "Epoch 50/50\n",
            "\u001b[1m1/1\u001b[0m \u001b[32m━━━━━━━━━━━━━━━━━━━━\u001b[0m\u001b[37m\u001b[0m \u001b[1m1s\u001b[0m 884ms/step - loss: 0.0383\n"
          ]
        },
        {
          "data": {
            "text/plain": [
              "<keras.src.callbacks.history.History at 0x7d9eff740310>"
            ]
          },
          "execution_count": 24,
          "metadata": {},
          "output_type": "execute_result"
        }
      ],
      "source": [
        "sample_x = X_train[:1]\n",
        "sample_y = Y_train[:1]\n",
        "\n",
        "ds = tf.data.Dataset.from_tensor_slices((sample_x, sample_y)).repeat().batch(1)\n",
        "model.fit(ds, steps_per_epoch=1, epochs=50, verbose=1)\n"
      ]
    },
    {
      "cell_type": "code",
      "execution_count": null,
      "metadata": {
        "colab": {
          "base_uri": "https://localhost:8080/",
          "height": 441
        },
        "id": "oBKNKOmg6AEo",
        "outputId": "d3f716ef-65a0-4727-91df-1570cbed0d74"
      },
      "outputs": [
        {
          "name": "stdout",
          "output_type": "stream",
          "text": [
            "\u001b[1m1/1\u001b[0m \u001b[32m━━━━━━━━━━━━━━━━━━━━\u001b[0m\u001b[37m\u001b[0m \u001b[1m1s\u001b[0m 695ms/step\n"
          ]
        },
        {
          "data": {
            "image/png": "[encoded data removed]",
            "text/plain": [
              "<Figure size 1200x400 with 3 Axes>"
            ]
          },
          "metadata": {},
          "output_type": "display_data"
        }
      ],
      "source": [
        "pred = model.predict(sample_x)\n",
        "\n",
        "plt.figure(figsize=(12, 4))\n",
        "\n",
        "plt.subplot(1, 3, 1)\n",
        "plt.imshow(sample_x[0][:, :, 16, 0], cmap='gray')\n",
        "plt.title(\"T1CE\")\n",
        "\n",
        "plt.subplot(1, 3, 2)\n",
        "plt.imshow(sample_y[0][:, :, 16, 0], cmap='gray')\n",
        "plt.title(\"True T2\")\n",
        "\n",
        "plt.subplot(1, 3, 3)\n",
        "plt.imshow(pred[0][:, :, 16, 0], cmap='gray')\n",
        "plt.title(\"Predicted T2\")\n",
        "\n",
        "plt.tight_layout()\n",
        "plt.show()\n"
      ]
    },
    {
      "cell_type": "code",
      "execution_count": null,
      "metadata": {
        "colab": {
          "base_uri": "https://localhost:8080/"
        },
        "id": "D6kJBrdv8YEp",
        "outputId": "2d6c7079-237c-45ab-aebd-a7e9d5e5600b"
      },
      "outputs": [
        {
          "name": "stdout",
          "output_type": "stream",
          "text": [
            "✅ Sliced patient 36\n",
            "✅ Sliced patient 4\n",
            "✅ Sliced patient 14\n",
            "✅ Total slices: 184\n"
          ]
        }
      ],
      "source": [
        "import os\n",
        "import numpy as np\n",
        "import nibabel as nib\n",
        "from collections import defaultdict\n",
        "from sklearn.model_selection import train_test_split\n",
        "import tensorflow as tf\n",
        "import matplotlib.pyplot as plt\n",
        "\n",
        "nifti_dir = '/content/drive/MyDrive/UPENN_GBM_Top10_NIfTI_Converted_Modality'\n",
        "TARGET_SHAPE = (128, 128)\n",
        "\n",
        "def identify_modality(filename):\n",
        "    name = filename.lower()\n",
        "    if 'stealth' in name or 'post' in name:\n",
        "        return 'T1CE'\n",
        "    if 't2' in name:\n",
        "        return 'T2'\n",
        "    return 'UNKNOWN'\n",
        "\n",
        "def load_nifti(path):\n",
        "    img = nib.load(path).get_fdata()\n",
        "    img = np.nan_to_num(img)\n",
        "    img = (img - np.min(img)) / (np.max(img) - np.min(img) + 1e-5)\n",
        "    return img.astype(np.float32)\n",
        "\n",
        "def resize_2d(slice_2d, target_shape=TARGET_SHAPE):\n",
        "    from scipy.ndimage import zoom\n",
        "    zoom_factors = [t / s for t, s in zip(target_shape, slice_2d.shape)]\n",
        "    return zoom(slice_2d, zoom_factors, order=1)\n",
        "\n",
        "# Group files\n",
        "patient_files = defaultdict(dict)\n",
        "\n",
        "for fname in os.listdir(nifti_dir):\n",
        "    if not fname.endswith('.nii.gz'):\n",
        "        continue\n",
        "    pid = fname.split('_')[0]\n",
        "    modality = identify_modality(fname)\n",
        "    if modality in ['T1CE', 'T2']:\n",
        "        patient_files[pid][modality] = os.path.join(nifti_dir, fname)\n",
        "\n",
        "# Extract 2D axial slices\n",
        "X_slices, Y_slices = [], []\n",
        "\n",
        "for pid, mods in patient_files.items():\n",
        "    if 'T1CE' in mods and 'T2' in mods:\n",
        "        try:\n",
        "            t1ce_vol = load_nifti(mods['T1CE'])\n",
        "            t2_vol = load_nifti(mods['T2'])\n",
        "            for z in range(min(t1ce_vol.shape[2], t2_vol.shape[2])):\n",
        "                t1_slice = resize_2d(t1ce_vol[:, :, z])\n",
        "                t2_slice = resize_2d(t2_vol[:, :, z])\n",
        "                X_slices.append(t1_slice[..., np.newaxis])\n",
        "                Y_slices.append(t2_slice[..., np.newaxis])\n",
        "            print(f\"✅ Sliced patient {pid}\")\n",
        "        except Exception as e:\n",
        "            print(f\"❌ Error with {pid}: {e}\")\n",
        "\n",
        "X = np.array(X_slices, dtype=np.float32)\n",
        "Y = np.array(Y_slices, dtype=np.float32)\n",
        "\n",
        "# Train-test split\n",
        "X_train, X_val, Y_train, Y_val = train_test_split(X, Y, test_size=0.2, random_state=42)\n",
        "train_ds = tf.data.Dataset.from_tensor_slices((X_train, Y_train)).shuffle(100).batch(8)\n",
        "val_ds = tf.data.Dataset.from_tensor_slices((X_val, Y_val)).batch(8)\n",
        "\n",
        "print(f\"✅ Total slices: {len(X)}\")\n"
      ]
    },
    {
      "cell_type": "code",
      "execution_count": null,
      "metadata": {
        "colab": {
          "base_uri": "https://localhost:8080/"
        },
        "id": "7H6ZCBUP3Vls",
        "outputId": "8a7ef2ca-f574-4da4-ad4f-9b07c2b4c3d5"
      },
      "outputs": [
        {
          "name": "stdout",
          "output_type": "stream",
          "text": [
            "📋 Metadata columns: ['Series UID', 'Collection', '3rd Party Analysis', 'Data Description URI', 'Subject ID', 'Study UID', 'Study Description', 'Study Date', 'Series Description', 'Manufacturer', 'Modality', 'SOP Class Name', 'SOP Class UID', 'Number of Images', 'File Size', 'File Location', 'Download Timestamp']\n",
            "✅ Matched patients: ['UPENN-GBM-00302', 'UPENN-GBM-00130', 'UPENN-GBM-00280', 'UPENN-GBM-00183', 'UPENN-GBM-00314', 'UPENN-GBM-00332', 'UPENN-GBM-00160', 'UPENN-GBM-00197', 'UPENN-GBM-00344', 'UPENN-GBM-00036']\n",
            "➡️ Total matched: 10 / 10\n"
          ]
        }
      ],
      "source": [
        "import os\n",
        "import pandas as pd\n",
        "\n",
        "# ✅ Update metadata path to match your Google Drive structure\n",
        "metadata_path = '/content/drive/MyDrive/UPENN_GBM_Top10/manifest-1669766397961/metadata.csv'\n",
        "metadata_df = pd.read_csv(metadata_path)\n",
        "\n",
        "# Step 2: Check available columns\n",
        "print(\"📋 Metadata columns:\", metadata_df.columns.tolist())\n",
        "\n",
        "# Step 3: Extract folder names (patient IDs) from the mounted DICOM directory\n",
        "dicom_dir = '/content/drive/MyDrive/UPENN_GBM_Top10/manifest-1669766397961/UPENN-GBM'\n",
        "folder_names = os.listdir(dicom_dir)\n",
        "\n",
        "# Step 4: Filter valid patient folders (ignore system files)\n",
        "patient_ids = [f for f in folder_names if f.startswith('UPENN-GBM')]\n",
        "\n",
        "# Step 5: Match with metadata's \"Subject ID\" column\n",
        "if 'Subject ID' in metadata_df.columns:\n",
        "    metadata_ids = metadata_df['Subject ID'].astype(str).tolist()\n",
        "elif 'ID' in metadata_df.columns:\n",
        "    metadata_ids = metadata_df['ID'].astype(str).tolist()\n",
        "else:\n",
        "    raise ValueError(\"❌ Could not find a column for patient ID in the metadata.\")\n",
        "\n",
        "# Step 6: Remove suffix from folder names like \"_11\" or \"_21\"\n",
        "base_patient_ids = [pid.split('_')[0] for pid in patient_ids]\n",
        "matched = [pid for pid in base_patient_ids if pid in metadata_ids]\n",
        "\n",
        "# Step 7: Show results\n",
        "print(f\"✅ Matched patients: {matched}\")\n",
        "print(f\"➡️ Total matched: {len(matched)} / {len(base_patient_ids)}\")\n"
      ]
    },
    {
      "cell_type": "code",
      "execution_count": null,
      "metadata": {
        "colab": {
          "base_uri": "https://localhost:8080/"
        },
        "id": "ZXb7GWiLDoPX",
        "outputId": "f8d45bb5-e855-4f41-f195-dbac90cb2155"
      },
      "outputs": [
        {
          "name": "stdout",
          "output_type": "stream",
          "text": [
            "Collecting pydicom\n",
            "  Downloading pydicom-3.0.1-py3-none-any.whl.metadata (9.4 kB)\n",
            "Downloading pydicom-3.0.1-py3-none-any.whl (2.4 MB)\n",
            "\u001b[2K   \u001b[90m━━━━━━━━━━━━━━━━━━━━━━━━━━━━━━━━━━━━━━━━\u001b[0m \u001b[32m2.4/2.4 MB\u001b[0m \u001b[31m18.6 MB/s\u001b[0m eta \u001b[36m0:00:00\u001b[0m\n",
            "\u001b[?25hInstalling collected packages: pydicom\n",
            "Successfully installed pydicom-3.0.1\n"
          ]
        }
      ],
      "source": [
        "!pip install pydicom\n"
      ]
    },
    {
      "cell_type": "code",
      "execution_count": null,
      "metadata": {
        "colab": {
          "base_uri": "https://localhost:8080/"
        },
        "id": "MLJxnK8iEWgd",
        "outputId": "162d9328-02ef-40d5-9af5-42ebf953877b"
      },
      "outputs": [
        {
          "output_type": "stream",
          "name": "stdout",
          "text": [
            "✅ Found 4 patients with both T1CE and T2:\n",
            "['36', '2', '13', '14']\n"
          ]
        }
      ],
      "source": [
        "import os\n",
        "from collections import defaultdict\n",
        "\n",
        "nifti_dir = '/content/drive/MyDrive/UPENN_GBM_Top10_NIfTI_Converted_Modality'\n",
        "patient_modalities = defaultdict(set)\n",
        "\n",
        "def is_t1ce(name):\n",
        "    return any(k in name.lower() for k in ['post', 'stealth', 'mprage'])\n",
        "\n",
        "def is_t2(name):\n",
        "    return 't2' in name.lower() and 'flair' in name.lower()\n",
        "\n",
        "# Scan filenames\n",
        "for fname in os.listdir(nifti_dir):\n",
        "    if fname.endswith('.nii.gz'):\n",
        "        patient_id = fname.split('_')[0]\n",
        "        if is_t1ce(fname):\n",
        "            patient_modalities[patient_id].add('T1CE')\n",
        "        if is_t2(fname):\n",
        "            patient_modalities[patient_id].add('T2')\n",
        "\n",
        "# Get only those with both\n",
        "qualified_patients = [pid for pid, mods in patient_modalities.items() if {'T1CE', 'T2'}.issubset(mods)]\n",
        "\n",
        "print(f\"✅ Found {len(qualified_patients)} patients with both T1CE and T2:\")\n",
        "print(qualified_patients)\n"
      ]
    },
    {
      "cell_type": "code",
      "execution_count": null,
      "metadata": {
        "colab": {
          "base_uri": "https://localhost:8080/"
        },
        "id": "VVgoYb64Hg7J",
        "outputId": "fabad721-c8c0-49bf-d4c9-0254eeed0947"
      },
      "outputs": [
        {
          "output_type": "stream",
          "name": "stdout",
          "text": [
            "\n",
            "🔍 Patient 32\n",
            "  - 32_perfusion_bolus.nii.gz\n",
            "\n",
            "🔍 Patient 33\n",
            "  - 33_ax_t1_3d_post_stealth__processed_captk.nii.gz\n",
            "\n",
            "🔍 Patient 31\n",
            "  - 31_t2_axial_flair_processed_captk.nii.gz\n",
            "\n",
            "🔍 Patient 36\n",
            "  - 36_t2_axial_flair_post__processed_captk.nii.gz\n",
            "  - 36_t2_axial_processed_captk.nii.gz\n",
            "  - 36_perfusion_bolus.nii.gz\n",
            "\n",
            "🔍 Patient 8\n",
            "  - 8_ax_t1_mprage_isotropic_processed_captk.nii.gz\n",
            "  - 8_axial_flair__processed_captk.nii.gz\n"
          ]
        }
      ],
      "source": [
        "base_path = '/content/drive/MyDrive/UPENN_GBM_Top10_NIfTI_Converted_Modality'\n",
        "patient_ids = ['32', '33', '31', '36', '8']\n",
        "\n",
        "for pid in patient_ids:\n",
        "    print(f\"\\n🔍 Patient {pid}\")\n",
        "    for f in os.listdir(base_path):\n",
        "        if f.startswith(pid):\n",
        "            print(f\"  - {f}\")\n"
      ]
    },
    {
      "cell_type": "code",
      "source": [
        "##TUMOUR ONSET CLASSIFICATION"
      ],
      "metadata": {
        "id": "U47bKqyQ2hHL"
      },
      "execution_count": null,
      "outputs": []
    },
    {
      "cell_type": "code",
      "source": [
        "import pandas as pd\n",
        "import numpy as np\n",
        "\n",
        "# Load the clinical metadata (replace with your actual path)\n",
        "metadata_path = '/content/drive/MyDrive/UPENN-GBM_clinical_info_v2.1 (1).csv'\n",
        "metadata_df = pd.read_csv(metadata_path)\n",
        "\n",
        "# Ensure the relevant column is numeric\n",
        "metadata_df['Time_since_baseline_preop'] = pd.to_numeric(metadata_df['Time_since_baseline_preop'], errors='coerce')\n",
        "\n",
        "# Drop rows with NaNs in required columns\n",
        "metadata_df = metadata_df.dropna(subset=['ID', 'Time_since_baseline_preop'])\n",
        "\n",
        "# Define time bins and labels\n",
        "bins = [-np.inf, 0, 90, 180, 365, np.inf]  # Modify as needed\n",
        "labels = ['Pre-op', '<3 months', '3-6 months', '6-12 months', '>1 year']\n",
        "\n",
        "# Create onset class column\n",
        "metadata_df['onset_class'] = pd.cut(\n",
        "    metadata_df['Time_since_baseline_preop'],\n",
        "    bins=bins,\n",
        "    labels=labels\n",
        ")\n",
        "\n",
        "print(\"Labeled metadata sample:\")\n",
        "print(metadata_df[['ID', 'Time_since_baseline_preop', 'onset_class']].head())\n"
      ],
      "metadata": {
        "colab": {
          "base_uri": "https://localhost:8080/"
        },
        "id": "wPc194sirLoe",
        "outputId": "2fe02764-fb6c-4681-800e-b32e62f71874"
      },
      "execution_count": null,
      "outputs": [
        {
          "output_type": "stream",
          "name": "stdout",
          "text": [
            "Labeled metadata sample:\n",
            "                   ID  Time_since_baseline_preop onset_class\n",
            "0  UPENN-GBM-00001_11                        0.0      Pre-op\n",
            "1  UPENN-GBM-00002_11                        0.0      Pre-op\n",
            "2  UPENN-GBM-00003_11                        0.0      Pre-op\n",
            "3  UPENN-GBM-00004_11                        0.0      Pre-op\n",
            "4  UPENN-GBM-00005_11                        0.0      Pre-op\n"
          ]
        }
      ]
    },
    {
      "cell_type": "code",
      "source": [
        "import os\n",
        "\n",
        "# Your filtered image samples (ensure this list contains filenames or paths)\n",
        "image_patient_ids = ['UPENN-GBM-00001_11', 'UPENN-GBM-00002_11', 'UPENN-GBM-00003_11',\n",
        "                     'UPENN-GBM-00004_11', 'UPENN-GBM-00005_11', 'UPENN-GBM-00006_11']  # etc.\n",
        "\n",
        "# Filter metadata to those image IDs\n",
        "metadata_filtered = metadata_df[metadata_df['ID'].isin(image_patient_ids)].copy()\n",
        "\n",
        "# Verify results\n",
        "print(\"Filtered metadata with onset labels:\")\n",
        "print(metadata_filtered[['ID', 'Time_since_baseline_preop', 'onset_class']])\n"
      ],
      "metadata": {
        "colab": {
          "base_uri": "https://localhost:8080/"
        },
        "id": "dtujRg0Z2DGi",
        "outputId": "6646d0c2-c212-4aa8-c3e3-3264d34526df"
      },
      "execution_count": null,
      "outputs": [
        {
          "output_type": "stream",
          "name": "stdout",
          "text": [
            "Filtered metadata with onset labels:\n",
            "                   ID  Time_since_baseline_preop onset_class\n",
            "0  UPENN-GBM-00001_11                        0.0      Pre-op\n",
            "1  UPENN-GBM-00002_11                        0.0      Pre-op\n",
            "2  UPENN-GBM-00003_11                        0.0      Pre-op\n",
            "3  UPENN-GBM-00004_11                        0.0      Pre-op\n",
            "4  UPENN-GBM-00005_11                        0.0      Pre-op\n",
            "5  UPENN-GBM-00006_11                        0.0      Pre-op\n"
          ]
        }
      ]
    },
    {
      "cell_type": "code",
      "source": [
        "# Find post-op samples (time > 0)\n",
        "post_op_df = metadata_df[metadata_df['Time_since_baseline_preop'] > 0].copy()\n",
        "\n",
        "# Bin post-op samples into onset classes\n",
        "post_op_df['onset_class'] = pd.cut(\n",
        "    post_op_df['Time_since_baseline_preop'],\n",
        "    bins=[-1, 90, 180, 365, 10000],  # days\n",
        "    labels=['<3 months', '3-6 months', '6-12 months', '>1 year']\n",
        ")\n",
        "\n",
        "# Display some samples\n",
        "print(post_op_df[['ID', 'Time_since_baseline_preop', 'onset_class']].head(10))\n"
      ],
      "metadata": {
        "colab": {
          "base_uri": "https://localhost:8080/"
        },
        "id": "nORkIsIn2i2Y",
        "outputId": "a37127d5-1df1-43c6-acff-2575e8ff03f0"
      },
      "execution_count": null,
      "outputs": [
        {
          "output_type": "stream",
          "name": "stdout",
          "text": [
            "                     ID  Time_since_baseline_preop  onset_class\n",
            "36   UPENN-GBM-00036_21                      521.0      >1 year\n",
            "43   UPENN-GBM-00042_21                      282.0  6-12 months\n",
            "47   UPENN-GBM-00045_21                      113.0   3-6 months\n",
            "54   UPENN-GBM-00051_21                      385.0      >1 year\n",
            "56   UPENN-GBM-00052_21                      362.0  6-12 months\n",
            "60   UPENN-GBM-00055_21                       31.0    <3 months\n",
            "90   UPENN-GBM-00084_21                      151.0   3-6 months\n",
            "93   UPENN-GBM-00086_21                      116.0   3-6 months\n",
            "96   UPENN-GBM-00088_21                      221.0  6-12 months\n",
            "102  UPENN-GBM-00093_21                      332.0  6-12 months\n"
          ]
        }
      ]
    },
    {
      "cell_type": "code",
      "source": [
        "# List all defined variables\n",
        "import gc\n",
        "\n",
        "defined_vars = [var for var in globals() if isinstance(eval(var), pd.DataFrame)]\n",
        "print(\"Available DataFrames:\", defined_vars)\n"
      ],
      "metadata": {
        "colab": {
          "base_uri": "https://localhost:8080/"
        },
        "id": "a2DtVKqJ3VOC",
        "outputId": "b30ae687-707c-4c48-9a28-39547770a7cb"
      },
      "execution_count": null,
      "outputs": [
        {
          "output_type": "stream",
          "name": "stdout",
          "text": [
            "Available DataFrames: ['clinical_df', 'df', 'metadata_df', 'metadata', 'subset', 'filtered_metadata', 'metadata_filtered', 'post_op_df']\n"
          ]
        }
      ]
    },
    {
      "cell_type": "code",
      "source": [
        "# Step 1: Extract pre-op patients (Time_since_baseline_preop == 0)\n",
        "preop_df = metadata_df[metadata_df['Time_since_baseline_preop'] == 0].copy()\n",
        "preop_df['onset_class'] = 'Pre-op'\n",
        "\n",
        "# Step 2: Reuse existing labeled post_op_df (with onset_class from earlier)\n",
        "# post_op_df is already assumed to have the onset_class column\n",
        "\n",
        "# Step 3: Combine both into a single labeled metadata DataFrame\n",
        "metadata_df_full = pd.concat([preop_df, post_op_df], axis=0).reset_index(drop=True)\n",
        "\n",
        "# Step 4: Check final result\n",
        "print(\"Final labeled metadata sample:\")\n",
        "print(metadata_df_full[['ID', 'Time_since_baseline_preop', 'onset_class']].sample(10))\n",
        "\n",
        "# Optional: Save to CSV if needed\n",
        "# metadata_df_full.to_csv('/content/drive/MyDrive/labeled_onset_metadata.csv', index=False)\n"
      ],
      "metadata": {
        "colab": {
          "base_uri": "https://localhost:8080/"
        },
        "id": "FZT6ewx14zBB",
        "outputId": "5f731232-36a7-424e-fd37-8c44dac2ff3f"
      },
      "execution_count": null,
      "outputs": [
        {
          "output_type": "stream",
          "name": "stdout",
          "text": [
            "Final labeled metadata sample:\n",
            "                     ID  Time_since_baseline_preop  onset_class\n",
            "646  UPENN-GBM-00332_21                      450.0      >1 year\n",
            "355  UPENN-GBM-00356_11                        0.0       Pre-op\n",
            "32   UPENN-GBM-00033_11                        0.0       Pre-op\n",
            "574  UPENN-GBM-00575_11                        0.0       Pre-op\n",
            "45   UPENN-GBM-00046_11                        0.0       Pre-op\n",
            "251  UPENN-GBM-00252_11                        0.0       Pre-op\n",
            "425  UPENN-GBM-00426_11                        0.0       Pre-op\n",
            "278  UPENN-GBM-00279_11                        0.0       Pre-op\n",
            "423  UPENN-GBM-00424_11                        0.0       Pre-op\n",
            "630  UPENN-GBM-00148_21                      295.0  6-12 months\n"
          ]
        }
      ]
    },
    {
      "cell_type": "code",
      "source": [
        "import nibabel as nib\n",
        "import os\n",
        "import numpy as np\n",
        "\n",
        "def load_modalities(patient_id, modalities=['T1CE', 'FLAIR'], base_path='/content/drive/MyDrive/UPENN_GBM_Top10_NIfTI_Converted_Modality'):\n",
        "    data = {}\n",
        "    for mod in modalities:\n",
        "        mod_path = os.path.join(base_path, mod, f\"{patient_id}_{mod}.nii.gz\")\n",
        "        if os.path.exists(mod_path):\n",
        "            img = nib.load(mod_path).get_fdata()\n",
        "            data[mod] = img\n",
        "    return data\n",
        "def extract_central_slices(modality_data, slice_range=(40, 70)):\n",
        "    stacked_slices = []\n",
        "    for i in range(slice_range[0], slice_range[1]):\n",
        "        slice_stack = []\n",
        "        for mod in modality_data:\n",
        "            slice_stack.append(modality_data[mod][:, :, i])\n",
        "        stacked_slices.append(np.stack(slice_stack, axis=-1))  # (H, W, C)\n",
        "    return stacked_slices  # List of (H, W, C)\n",
        "\n",
        "\n",
        "from tensorflow.keras.utils import to_categorical\n",
        "\n",
        "def create_dataset(metadata_df, label_encoder, slice_range=(40, 70)):\n",
        "    images, labels = [], []\n",
        "    for _, row in metadata_df.iterrows():\n",
        "        patient_id = row['ID']\n",
        "        label = row['onset_class']\n",
        "        try:\n",
        "            modality_data = load_modalities(patient_id.split('_')[0])\n",
        "            slices = extract_central_slices(modality_data, slice_range)\n",
        "            images.extend(slices)\n",
        "            labels.extend([label_encoder[label]] * len(slices))\n",
        "        except Exception as e:\n",
        "            print(f\"Failed for {patient_id}: {e}\")\n",
        "    return np.array(images), to_categorical(labels)\n",
        "\n",
        "\n",
        "label_map = {'Pre-op': 0, '<3 months': 1, '3-6 months': 2, '6-12 months': 3, '>1 year': 4}\n"
      ],
      "metadata": {
        "id": "SEv4i5Ed6Glb"
      },
      "execution_count": null,
      "outputs": []
    },
    {
      "cell_type": "code",
      "source": [
        "import os\n",
        "\n",
        "# Define the root directory containing all NIfTI files\n",
        "nifti_dir = \"/content/drive/MyDrive/UPENN_GBM_Top10_NIfTI_Converted_Modality\"\n",
        "all_files = os.listdir(nifti_dir)\n",
        "\n",
        "# Extract sample IDs\n",
        "sample_ids = ['UPENN-GBM-00001', 'UPENN-GBM-00002', 'UPENN-GBM-00003', 'UPENN-GBM-00004',\n",
        "              'UPENN-GBM-00005', 'UPENN-GBM-00006', 'UPENN-GBM-00007', 'UPENN-GBM-00008',\n",
        "              'UPENN-GBM-00009', 'UPENN-GBM-00010']\n",
        "\n",
        "# Match based on filename prefixes\n",
        "valid_samples = []\n",
        "for sid in sample_ids:\n",
        "    patient_num = sid.split('-')[-1].lstrip('0')  # e.g., '00001' → '1'\n",
        "\n",
        "    # Find files for this patient\n",
        "    patient_files = [f for f in all_files if f.startswith(patient_num + \"_\") or f.startswith(patient_num + \"-\") or f.startswith(patient_num)]\n",
        "\n",
        "    # Detect T1CE and T2/FLAIR from filenames\n",
        "    t1ce_file = next((f for f in patient_files if 'post' in f.lower() and 't1' in f.lower()), None)\n",
        "    t2_file = next((f for f in patient_files if 'flair' in f.lower() or ('t2' in f.lower() and 'tse' not in f.lower())), None)\n",
        "\n",
        "    if t1ce_file and t2_file:\n",
        "        valid_samples.append({\n",
        "            'ID': sid,\n",
        "            't1ce_path': os.path.join(nifti_dir, t1ce_file),\n",
        "            't2_path': os.path.join(nifti_dir, t2_file)\n",
        "        })\n",
        "\n",
        "print(f\"✅ Found {len(valid_samples)} patients with both T1CE and T2/FLAIR:\")\n",
        "for vs in valid_samples:\n",
        "    print(vs['ID'], \"→\", os.path.basename(vs['t1ce_path']), \"|\", os.path.basename(vs['t2_path']))\n"
      ],
      "metadata": {
        "colab": {
          "base_uri": "https://localhost:8080/"
        },
        "id": "jiVUlhUe9mQo",
        "outputId": "6df23e96-3cf6-46f2-d334-816e23fe4529"
      },
      "execution_count": null,
      "outputs": [
        {
          "output_type": "stream",
          "name": "stdout",
          "text": [
            "✅ Found 3 patients with both T1CE and T2/FLAIR:\n",
            "UPENN-GBM-00001 → 16_t1_axial_stealth-post__processed_captk.nii.gz | 11_axial_t2_flair_processed_captk.nii.gz\n",
            "UPENN-GBM-00003 → 33_ax_t1_3d_post_stealth__processed_captk.nii.gz | 31_t2_axial_flair_processed_captk.nii.gz\n",
            "UPENN-GBM-00004 → 46_ax_t1_3d_post_stealth__processed_captk.nii.gz | 44_t2_axial_flair_processed_captk.nii.gz\n"
          ]
        }
      ]
    },
    {
      "cell_type": "code",
      "source": [
        "import os\n",
        "import numpy as np\n",
        "import nibabel as nib\n",
        "import pandas as pd\n",
        "import tensorflow as tf\n",
        "from sklearn.model_selection import train_test_split\n",
        "from sklearn.preprocessing import OneHotEncoder\n",
        "from sklearn.metrics import classification_report\n",
        "from tensorflow.keras.models import Sequential\n",
        "from tensorflow.keras.layers import Conv2D, MaxPooling2D, Flatten, Dense, Dropout\n",
        "\n",
        "# --------------------- Step 1: Setup --------------------- #\n",
        "\n",
        "# Ensure numeric type (will turn invalid strings into NaN if any)\n",
        "df['Time_since_baseline_preop'] = pd.to_numeric(df['Time_since_baseline_preop'], errors='coerce')\n",
        "\n",
        "# Then apply the onset classification\n",
        "df['onset_class'] = df['Time_since_baseline_preop'].apply(label_onset)\n",
        "\n",
        "def label_onset(val):\n",
        "    if val == 0:\n",
        "        return 'Pre-op'\n",
        "    elif val <= 90:\n",
        "        return '<3 months'\n",
        "    elif val <= 180:\n",
        "        return '3-6 months'\n",
        "    elif val <= 365:\n",
        "        return '6-12 months'\n",
        "    else:\n",
        "        return '>1 year'\n",
        "\n",
        "# Apply it directly to the column\n",
        "df['onset_class'] = df['Time_since_baseline_preop'].apply(label_onset)\n",
        "\n",
        "\n",
        "# Use the confirmed patient matches\n",
        "valid_samples = [\n",
        "    {\n",
        "        \"ID\": \"UPENN-GBM-00001\",\n",
        "        \"t1ce_path\": \"/content/drive/MyDrive/UPENN_GBM_Top10_NIfTI_Converted_Modality/16_t1_axial_stealth-post__processed_captk.nii.gz\",\n",
        "        \"flair_path\": \"/content/drive/MyDrive/UPENN_GBM_Top10_NIfTI_Converted_Modality/11_axial_t2_flair_processed_captk.nii.gz\"\n",
        "    },\n",
        "    {\n",
        "        \"ID\": \"UPENN-GBM-00003\",\n",
        "        \"t1ce_path\": \"/content/drive/MyDrive/UPENN_GBM_Top10_NIfTI_Converted_Modality/33_ax_t1_3d_post_stealth__processed_captk.nii.gz\",\n",
        "        \"flair_path\": \"/content/drive/MyDrive/UPENN_GBM_Top10_NIfTI_Converted_Modality/31_t2_axial_flair_processed_captk.nii.gz\"\n",
        "    },\n",
        "    {\n",
        "        \"ID\": \"UPENN-GBM-00004\",\n",
        "        \"t1ce_path\": \"/content/drive/MyDrive/UPENN_GBM_Top10_NIfTI_Converted_Modality/46_ax_t1_3d_post_stealth__processed_captk.nii.gz\",\n",
        "        \"flair_path\": \"/content/drive/MyDrive/UPENN_GBM_Top10_NIfTI_Converted_Modality/44_t2_axial_flair_processed_captk.nii.gz\"\n",
        "    }\n",
        "]\n",
        "\n",
        "combined_metadata = df.copy()\n",
        "combined_metadata['base_id'] = combined_metadata['ID'].apply(lambda x: x.split('_')[0])\n",
        "\n",
        "label_map = {'Pre-op': 0, '<3 months': 1, '3-6 months': 2, '6-12 months': 3, '>1 year': 4}\n",
        "\n",
        "# --------------------- Step 2: Load Modalities & Extract Slices --------------------- #\n",
        "\n",
        "def load_modalities_and_slices(t1ce_path, flair_path, slice_range=(40, 70), target_size=(128, 128)):\n",
        "    t1ce_img = nib.load(t1ce_path).get_fdata()\n",
        "    flair_img = nib.load(flair_path).get_fdata()\n",
        "\n",
        "    #Getting the minimum depth to avoid IndexErrors\n",
        "    min_depth = min(t1ce_img.shape[2], flair_img.shape[2])\n",
        "    end_slice = min(slice_range[1], min_depth)\n",
        "\n",
        "    slices = []\n",
        "    for i in range(slice_range[0], end_slice):\n",
        "        t1ce_slice = t1ce_img[:, :, i]\n",
        "        flair_slice = flair_img[:, :, i]\n",
        "\n",
        "        if not np.any(t1ce_slice) or not np.any(flair_slice):\n",
        "            continue\n",
        "\n",
        "        #Resize each to 128x128\n",
        "        t1ce_resized = tf.image.resize(t1ce_slice[..., np.newaxis], target_size).numpy().squeeze()\n",
        "        flair_resized = tf.image.resize(flair_slice[..., np.newaxis], target_size).numpy().squeeze()\n",
        "\n",
        "        combined = np.stack([t1ce_resized, flair_resized], axis=-1)\n",
        "        slices.append(combined)\n",
        "\n",
        "    return slices\n",
        "\n",
        "\n",
        "X = []\n",
        "y = []\n",
        "\n",
        "for sample in valid_samples:\n",
        "    base_id = sample['ID']\n",
        "    onset_label = combined_metadata[combined_metadata['base_id'] == base_id]['onset_class'].values[0]\n",
        "\n",
        "    slices = load_modalities_and_slices(sample['t1ce_path'], sample['flair_path'])\n",
        "    X.extend(slices)\n",
        "    y.extend([label_map[onset_label]] * len(slices))\n",
        "\n",
        "X = np.array(X)\n",
        "y = np.array(y)\n",
        "\n",
        "# ------------------- Step 3: Normalize and Resize ------------------- #\n",
        "\n",
        "print(\"X shape before resize:\", X.shape)\n",
        "\n",
        "X = (X - np.min(X)) / (np.max(X) - np.min(X) + 1e-5)\n",
        "X = tf.image.resize(X, [128, 128]).numpy()\n",
        "\n",
        "\n",
        "from tensorflow.keras.utils import to_categorical\n",
        "y = to_categorical(y, num_classes=5)\n",
        "\n",
        "\n",
        "# -------------------- Step 4: Train-Test Split -------------------- #\n",
        "\n",
        "X_train, X_test, y_train, y_test = train_test_split(X, y, test_size=0.3, stratify=y, random_state=42)\n",
        "\n",
        "# --------------------- Step 5: CNN Model --------------------- #\n",
        "\n",
        "model = Sequential([\n",
        "    Conv2D(32, (3,3), activation='relu', input_shape=(128, 128, 2)),\n",
        "    MaxPooling2D(2, 2),\n",
        "    Conv2D(64, (3,3), activation='relu'),\n",
        "    MaxPooling2D(2, 2),\n",
        "    Conv2D(128, (3,3), activation='relu'),\n",
        "    MaxPooling2D(2, 2),\n",
        "    Flatten(),\n",
        "    Dropout(0.5),\n",
        "    Dense(128, activation='relu'),\n",
        "    Dense(5, activation='softmax')\n",
        "])\n",
        "\n",
        "model.compile(optimizer='adam', loss='categorical_crossentropy', metrics=['accuracy'])\n",
        "model.summary()\n",
        "\n",
        "# --------------------- Step 6: Train & Evaluate --------------------- #\n",
        "\n",
        "history = model.fit(X_train, y_train, validation_split=0.2, epochs=10, batch_size=8)\n",
        "y_pred = model.predict(X_test)\n",
        "y_pred_classes = np.argmax(y_pred, axis=1)\n",
        "y_true_classes = np.argmax(y_test, axis=1)\n",
        "\n",
        "from sklearn.metrics import classification_report\n",
        "\n",
        "print(classification_report(\n",
        "    y_true_classes,\n",
        "    y_pred_classes,\n",
        "    labels=[0, 1, 2, 3, 4],  #Expected class indices\n",
        "    target_names=list(label_map.keys()),\n",
        "    zero_division=0          #Avoiding divide-by-zero for missing classes\n",
        "))\n",
        "\n"
      ],
      "metadata": {
        "colab": {
          "base_uri": "https://localhost:8080/",
          "height": 1000
        },
        "id": "gQqUHl2Y-WEW",
        "outputId": "545786e3-8492-4423-c4c6-dcdf5c409ee7"
      },
      "execution_count": null,
      "outputs": [
        {
          "output_type": "stream",
          "name": "stdout",
          "text": [
            "X shape before resize: (57, 128, 128, 2)\n"
          ]
        },
        {
          "output_type": "stream",
          "name": "stderr",
          "text": [
            "/usr/local/lib/python3.11/dist-packages/keras/src/layers/convolutional/base_conv.py:107: UserWarning: Do not pass an `input_shape`/`input_dim` argument to a layer. When using Sequential models, prefer using an `Input(shape)` object as the first layer in the model instead.\n",
            "  super().__init__(activity_regularizer=activity_regularizer, **kwargs)\n"
          ]
        },
        {
          "output_type": "display_data",
          "data": {
            "text/plain": [
              "\u001b[1mModel: \"sequential_2\"\u001b[0m\n"
            ],
            "text/html": [
              "<pre style=\"white-space:pre;overflow-x:auto;line-height:normal;font-family:Menlo,'DejaVu Sans Mono',consolas,'Courier New',monospace\"><span style=\"font-weight: bold\">Model: \"sequential_2\"</span>\n",
              "</pre>\n"
            ]
          },
          "metadata": {}
        },
        {
          "output_type": "display_data",
          "data": {
            "text/plain": [
              "┏━━━━━━━━━━━━━━━━━━━━━━━━━━━━━━━━━┳━━━━━━━━━━━━━━━━━━━━━━━━┳━━━━━━━━━━━━━━━┓\n",
              "┃\u001b[1m \u001b[0m\u001b[1mLayer (type)                   \u001b[0m\u001b[1m \u001b[0m┃\u001b[1m \u001b[0m\u001b[1mOutput Shape          \u001b[0m\u001b[1m \u001b[0m┃\u001b[1m \u001b[0m\u001b[1m      Param #\u001b[0m\u001b[1m \u001b[0m┃\n",
              "┡━━━━━━━━━━━━━━━━━━━━━━━━━━━━━━━━━╇━━━━━━━━━━━━━━━━━━━━━━━━╇━━━━━━━━━━━━━━━┩\n",
              "│ conv2d_25 (\u001b[38;5;33mConv2D\u001b[0m)              │ (\u001b[38;5;45mNone\u001b[0m, \u001b[38;5;34m126\u001b[0m, \u001b[38;5;34m126\u001b[0m, \u001b[38;5;34m32\u001b[0m)   │           \u001b[38;5;34m608\u001b[0m │\n",
              "├─────────────────────────────────┼────────────────────────┼───────────────┤\n",
              "│ max_pooling2d_14 (\u001b[38;5;33mMaxPooling2D\u001b[0m) │ (\u001b[38;5;45mNone\u001b[0m, \u001b[38;5;34m63\u001b[0m, \u001b[38;5;34m63\u001b[0m, \u001b[38;5;34m32\u001b[0m)     │             \u001b[38;5;34m0\u001b[0m │\n",
              "├─────────────────────────────────┼────────────────────────┼───────────────┤\n",
              "│ conv2d_26 (\u001b[38;5;33mConv2D\u001b[0m)              │ (\u001b[38;5;45mNone\u001b[0m, \u001b[38;5;34m61\u001b[0m, \u001b[38;5;34m61\u001b[0m, \u001b[38;5;34m64\u001b[0m)     │        \u001b[38;5;34m18,496\u001b[0m │\n",
              "├─────────────────────────────────┼────────────────────────┼───────────────┤\n",
              "│ max_pooling2d_15 (\u001b[38;5;33mMaxPooling2D\u001b[0m) │ (\u001b[38;5;45mNone\u001b[0m, \u001b[38;5;34m30\u001b[0m, \u001b[38;5;34m30\u001b[0m, \u001b[38;5;34m64\u001b[0m)     │             \u001b[38;5;34m0\u001b[0m │\n",
              "├─────────────────────────────────┼────────────────────────┼───────────────┤\n",
              "│ conv2d_27 (\u001b[38;5;33mConv2D\u001b[0m)              │ (\u001b[38;5;45mNone\u001b[0m, \u001b[38;5;34m28\u001b[0m, \u001b[38;5;34m28\u001b[0m, \u001b[38;5;34m128\u001b[0m)    │        \u001b[38;5;34m73,856\u001b[0m │\n",
              "├─────────────────────────────────┼────────────────────────┼───────────────┤\n",
              "│ max_pooling2d_16 (\u001b[38;5;33mMaxPooling2D\u001b[0m) │ (\u001b[38;5;45mNone\u001b[0m, \u001b[38;5;34m14\u001b[0m, \u001b[38;5;34m14\u001b[0m, \u001b[38;5;34m128\u001b[0m)    │             \u001b[38;5;34m0\u001b[0m │\n",
              "├─────────────────────────────────┼────────────────────────┼───────────────┤\n",
              "│ flatten_2 (\u001b[38;5;33mFlatten\u001b[0m)             │ (\u001b[38;5;45mNone\u001b[0m, \u001b[38;5;34m25088\u001b[0m)          │             \u001b[38;5;34m0\u001b[0m │\n",
              "├─────────────────────────────────┼────────────────────────┼───────────────┤\n",
              "│ dropout_2 (\u001b[38;5;33mDropout\u001b[0m)             │ (\u001b[38;5;45mNone\u001b[0m, \u001b[38;5;34m25088\u001b[0m)          │             \u001b[38;5;34m0\u001b[0m │\n",
              "├─────────────────────────────────┼────────────────────────┼───────────────┤\n",
              "│ dense_4 (\u001b[38;5;33mDense\u001b[0m)                 │ (\u001b[38;5;45mNone\u001b[0m, \u001b[38;5;34m128\u001b[0m)            │     \u001b[38;5;34m3,211,392\u001b[0m │\n",
              "├─────────────────────────────────┼────────────────────────┼───────────────┤\n",
              "│ dense_5 (\u001b[38;5;33mDense\u001b[0m)                 │ (\u001b[38;5;45mNone\u001b[0m, \u001b[38;5;34m5\u001b[0m)              │           \u001b[38;5;34m645\u001b[0m │\n",
              "└─────────────────────────────────┴────────────────────────┴───────────────┘\n"
            ],
            "text/html": [
              "<pre style=\"white-space:pre;overflow-x:auto;line-height:normal;font-family:Menlo,'DejaVu Sans Mono',consolas,'Courier New',monospace\">┏━━━━━━━━━━━━━━━━━━━━━━━━━━━━━━━━━┳━━━━━━━━━━━━━━━━━━━━━━━━┳━━━━━━━━━━━━━━━┓\n",
              "┃<span style=\"font-weight: bold\"> Layer (type)                    </span>┃<span style=\"font-weight: bold\"> Output Shape           </span>┃<span style=\"font-weight: bold\">       Param # </span>┃\n",
              "┡━━━━━━━━━━━━━━━━━━━━━━━━━━━━━━━━━╇━━━━━━━━━━━━━━━━━━━━━━━━╇━━━━━━━━━━━━━━━┩\n",
              "│ conv2d_25 (<span style=\"color: #0087ff; text-decoration-color: #0087ff\">Conv2D</span>)              │ (<span style=\"color: #00d7ff; text-decoration-color: #00d7ff\">None</span>, <span style=\"color: #00af00; text-decoration-color: #00af00\">126</span>, <span style=\"color: #00af00; text-decoration-color: #00af00\">126</span>, <span style=\"color: #00af00; text-decoration-color: #00af00\">32</span>)   │           <span style=\"color: #00af00; text-decoration-color: #00af00\">608</span> │\n",
              "├─────────────────────────────────┼────────────────────────┼───────────────┤\n",
              "│ max_pooling2d_14 (<span style=\"color: #0087ff; text-decoration-color: #0087ff\">MaxPooling2D</span>) │ (<span style=\"color: #00d7ff; text-decoration-color: #00d7ff\">None</span>, <span style=\"color: #00af00; text-decoration-color: #00af00\">63</span>, <span style=\"color: #00af00; text-decoration-color: #00af00\">63</span>, <span style=\"color: #00af00; text-decoration-color: #00af00\">32</span>)     │             <span style=\"color: #00af00; text-decoration-color: #00af00\">0</span> │\n",
              "├─────────────────────────────────┼────────────────────────┼───────────────┤\n",
              "│ conv2d_26 (<span style=\"color: #0087ff; text-decoration-color: #0087ff\">Conv2D</span>)              │ (<span style=\"color: #00d7ff; text-decoration-color: #00d7ff\">None</span>, <span style=\"color: #00af00; text-decoration-color: #00af00\">61</span>, <span style=\"color: #00af00; text-decoration-color: #00af00\">61</span>, <span style=\"color: #00af00; text-decoration-color: #00af00\">64</span>)     │        <span style=\"color: #00af00; text-decoration-color: #00af00\">18,496</span> │\n",
              "├─────────────────────────────────┼────────────────────────┼───────────────┤\n",
              "│ max_pooling2d_15 (<span style=\"color: #0087ff; text-decoration-color: #0087ff\">MaxPooling2D</span>) │ (<span style=\"color: #00d7ff; text-decoration-color: #00d7ff\">None</span>, <span style=\"color: #00af00; text-decoration-color: #00af00\">30</span>, <span style=\"color: #00af00; text-decoration-color: #00af00\">30</span>, <span style=\"color: #00af00; text-decoration-color: #00af00\">64</span>)     │             <span style=\"color: #00af00; text-decoration-color: #00af00\">0</span> │\n",
              "├─────────────────────────────────┼────────────────────────┼───────────────┤\n",
              "│ conv2d_27 (<span style=\"color: #0087ff; text-decoration-color: #0087ff\">Conv2D</span>)              │ (<span style=\"color: #00d7ff; text-decoration-color: #00d7ff\">None</span>, <span style=\"color: #00af00; text-decoration-color: #00af00\">28</span>, <span style=\"color: #00af00; text-decoration-color: #00af00\">28</span>, <span style=\"color: #00af00; text-decoration-color: #00af00\">128</span>)    │        <span style=\"color: #00af00; text-decoration-color: #00af00\">73,856</span> │\n",
              "├─────────────────────────────────┼────────────────────────┼───────────────┤\n",
              "│ max_pooling2d_16 (<span style=\"color: #0087ff; text-decoration-color: #0087ff\">MaxPooling2D</span>) │ (<span style=\"color: #00d7ff; text-decoration-color: #00d7ff\">None</span>, <span style=\"color: #00af00; text-decoration-color: #00af00\">14</span>, <span style=\"color: #00af00; text-decoration-color: #00af00\">14</span>, <span style=\"color: #00af00; text-decoration-color: #00af00\">128</span>)    │             <span style=\"color: #00af00; text-decoration-color: #00af00\">0</span> │\n",
              "├─────────────────────────────────┼────────────────────────┼───────────────┤\n",
              "│ flatten_2 (<span style=\"color: #0087ff; text-decoration-color: #0087ff\">Flatten</span>)             │ (<span style=\"color: #00d7ff; text-decoration-color: #00d7ff\">None</span>, <span style=\"color: #00af00; text-decoration-color: #00af00\">25088</span>)          │             <span style=\"color: #00af00; text-decoration-color: #00af00\">0</span> │\n",
              "├─────────────────────────────────┼────────────────────────┼───────────────┤\n",
              "│ dropout_2 (<span style=\"color: #0087ff; text-decoration-color: #0087ff\">Dropout</span>)             │ (<span style=\"color: #00d7ff; text-decoration-color: #00d7ff\">None</span>, <span style=\"color: #00af00; text-decoration-color: #00af00\">25088</span>)          │             <span style=\"color: #00af00; text-decoration-color: #00af00\">0</span> │\n",
              "├─────────────────────────────────┼────────────────────────┼───────────────┤\n",
              "│ dense_4 (<span style=\"color: #0087ff; text-decoration-color: #0087ff\">Dense</span>)                 │ (<span style=\"color: #00d7ff; text-decoration-color: #00d7ff\">None</span>, <span style=\"color: #00af00; text-decoration-color: #00af00\">128</span>)            │     <span style=\"color: #00af00; text-decoration-color: #00af00\">3,211,392</span> │\n",
              "├─────────────────────────────────┼────────────────────────┼───────────────┤\n",
              "│ dense_5 (<span style=\"color: #0087ff; text-decoration-color: #0087ff\">Dense</span>)                 │ (<span style=\"color: #00d7ff; text-decoration-color: #00d7ff\">None</span>, <span style=\"color: #00af00; text-decoration-color: #00af00\">5</span>)              │           <span style=\"color: #00af00; text-decoration-color: #00af00\">645</span> │\n",
              "└─────────────────────────────────┴────────────────────────┴───────────────┘\n",
              "</pre>\n"
            ]
          },
          "metadata": {}
        },
        {
          "output_type": "display_data",
          "data": {
            "text/plain": [
              "\u001b[1m Total params: \u001b[0m\u001b[38;5;34m3,304,997\u001b[0m (12.61 MB)\n"
            ],
            "text/html": [
              "<pre style=\"white-space:pre;overflow-x:auto;line-height:normal;font-family:Menlo,'DejaVu Sans Mono',consolas,'Courier New',monospace\"><span style=\"font-weight: bold\"> Total params: </span><span style=\"color: #00af00; text-decoration-color: #00af00\">3,304,997</span> (12.61 MB)\n",
              "</pre>\n"
            ]
          },
          "metadata": {}
        },
        {
          "output_type": "display_data",
          "data": {
            "text/plain": [
              "\u001b[1m Trainable params: \u001b[0m\u001b[38;5;34m3,304,997\u001b[0m (12.61 MB)\n"
            ],
            "text/html": [
              "<pre style=\"white-space:pre;overflow-x:auto;line-height:normal;font-family:Menlo,'DejaVu Sans Mono',consolas,'Courier New',monospace\"><span style=\"font-weight: bold\"> Trainable params: </span><span style=\"color: #00af00; text-decoration-color: #00af00\">3,304,997</span> (12.61 MB)\n",
              "</pre>\n"
            ]
          },
          "metadata": {}
        },
        {
          "output_type": "display_data",
          "data": {
            "text/plain": [
              "\u001b[1m Non-trainable params: \u001b[0m\u001b[38;5;34m0\u001b[0m (0.00 B)\n"
            ],
            "text/html": [
              "<pre style=\"white-space:pre;overflow-x:auto;line-height:normal;font-family:Menlo,'DejaVu Sans Mono',consolas,'Courier New',monospace\"><span style=\"font-weight: bold\"> Non-trainable params: </span><span style=\"color: #00af00; text-decoration-color: #00af00\">0</span> (0.00 B)\n",
              "</pre>\n"
            ]
          },
          "metadata": {}
        },
        {
          "output_type": "stream",
          "name": "stdout",
          "text": [
            "Epoch 1/10\n",
            "\u001b[1m4/4\u001b[0m \u001b[32m━━━━━━━━━━━━━━━━━━━━\u001b[0m\u001b[37m\u001b[0m \u001b[1m5s\u001b[0m 343ms/step - accuracy: 0.5301 - loss: 1.0339 - val_accuracy: 1.0000 - val_loss: 8.2701e-06\n",
            "Epoch 2/10\n",
            "\u001b[1m4/4\u001b[0m \u001b[32m━━━━━━━━━━━━━━━━━━━━\u001b[0m\u001b[37m\u001b[0m \u001b[1m1s\u001b[0m 270ms/step - accuracy: 1.0000 - loss: 4.8803e-06 - val_accuracy: 1.0000 - val_loss: 0.0000e+00\n",
            "Epoch 3/10\n",
            "\u001b[1m4/4\u001b[0m \u001b[32m━━━━━━━━━━━━━━━━━━━━\u001b[0m\u001b[37m\u001b[0m \u001b[1m1s\u001b[0m 270ms/step - accuracy: 1.0000 - loss: 0.0000e+00 - val_accuracy: 1.0000 - val_loss: 0.0000e+00\n",
            "Epoch 4/10\n",
            "\u001b[1m4/4\u001b[0m \u001b[32m━━━━━━━━━━━━━━━━━━━━\u001b[0m\u001b[37m\u001b[0m \u001b[1m1s\u001b[0m 265ms/step - accuracy: 1.0000 - loss: 0.0000e+00 - val_accuracy: 1.0000 - val_loss: 0.0000e+00\n",
            "Epoch 5/10\n",
            "\u001b[1m4/4\u001b[0m \u001b[32m━━━━━━━━━━━━━━━━━━━━\u001b[0m\u001b[37m\u001b[0m \u001b[1m1s\u001b[0m 269ms/step - accuracy: 1.0000 - loss: 0.0000e+00 - val_accuracy: 1.0000 - val_loss: 0.0000e+00\n",
            "Epoch 6/10\n",
            "\u001b[1m4/4\u001b[0m \u001b[32m━━━━━━━━━━━━━━━━━━━━\u001b[0m\u001b[37m\u001b[0m \u001b[1m1s\u001b[0m 275ms/step - accuracy: 1.0000 - loss: 0.0000e+00 - val_accuracy: 1.0000 - val_loss: 0.0000e+00\n",
            "Epoch 7/10\n",
            "\u001b[1m4/4\u001b[0m \u001b[32m━━━━━━━━━━━━━━━━━━━━\u001b[0m\u001b[37m\u001b[0m \u001b[1m1s\u001b[0m 293ms/step - accuracy: 1.0000 - loss: 0.0000e+00 - val_accuracy: 1.0000 - val_loss: 0.0000e+00\n",
            "Epoch 8/10\n",
            "\u001b[1m4/4\u001b[0m \u001b[32m━━━━━━━━━━━━━━━━━━━━\u001b[0m\u001b[37m\u001b[0m \u001b[1m1s\u001b[0m 270ms/step - accuracy: 1.0000 - loss: 0.0000e+00 - val_accuracy: 1.0000 - val_loss: 0.0000e+00\n",
            "Epoch 9/10\n",
            "\u001b[1m4/4\u001b[0m \u001b[32m━━━━━━━━━━━━━━━━━━━━\u001b[0m\u001b[37m\u001b[0m \u001b[1m2s\u001b[0m 424ms/step - accuracy: 1.0000 - loss: 0.0000e+00 - val_accuracy: 1.0000 - val_loss: 0.0000e+00\n",
            "Epoch 10/10\n",
            "\u001b[1m4/4\u001b[0m \u001b[32m━━━━━━━━━━━━━━━━━━━━\u001b[0m\u001b[37m\u001b[0m \u001b[1m2s\u001b[0m 451ms/step - accuracy: 1.0000 - loss: 0.0000e+00 - val_accuracy: 1.0000 - val_loss: 0.0000e+00\n"
          ]
        },
        {
          "output_type": "stream",
          "name": "stderr",
          "text": [
            "WARNING:tensorflow:5 out of the last 5 calls to <function TensorFlowTrainer.make_predict_function.<locals>.one_step_on_data_distributed at 0x7c038565ee80> triggered tf.function retracing. Tracing is expensive and the excessive number of tracings could be due to (1) creating @tf.function repeatedly in a loop, (2) passing tensors with different shapes, (3) passing Python objects instead of tensors. For (1), please define your @tf.function outside of the loop. For (2), @tf.function has reduce_retracing=True option that can avoid unnecessary retracing. For (3), please refer to https://www.tensorflow.org/guide/function#controlling_retracing and https://www.tensorflow.org/api_docs/python/tf/function for  more details.\n"
          ]
        },
        {
          "output_type": "stream",
          "name": "stdout",
          "text": [
            "\u001b[1m1/1\u001b[0m \u001b[32m━━━━━━━━━━━━━━━━━━━━\u001b[0m\u001b[37m\u001b[0m \u001b[1m0s\u001b[0m 414ms/step\n",
            "              precision    recall  f1-score   support\n",
            "\n",
            "      Pre-op       1.00      1.00      1.00        18\n",
            "   <3 months       0.00      0.00      0.00         0\n",
            "  3-6 months       0.00      0.00      0.00         0\n",
            " 6-12 months       0.00      0.00      0.00         0\n",
            "     >1 year       0.00      0.00      0.00         0\n",
            "\n",
            "    accuracy                           1.00        18\n",
            "   macro avg       0.20      0.20      0.20        18\n",
            "weighted avg       1.00      1.00      1.00        18\n",
            "\n"
          ]
        }
      ]
    },
    {
      "cell_type": "code",
      "source": [
        "import random\n",
        "import matplotlib.pyplot as plt\n",
        "import numpy as np\n",
        "\n",
        "def predict_random_slice(X, y, model, label_map):\n",
        "    inverse_label_map = {v: k for k, v in label_map.items()}\n",
        "\n",
        "    idx = random.randint(0, len(X) - 1)\n",
        "    sample = X[idx]\n",
        "    true_label = np.argmax(y[idx])\n",
        "    pred = model.predict(np.expand_dims(sample, axis=0))\n",
        "    pred_class = np.argmax(pred)\n",
        "\n",
        "    #Result\n",
        "    print(f\"✅ True label: {inverse_label_map[true_label]}\")\n",
        "    print(f\"🎯 Predicted label: {inverse_label_map[pred_class]}\")\n",
        "\n",
        "    #Show slice\n",
        "    plt.imshow(sample[:, :, 0], cmap='gray')\n",
        "    plt.title(\"T1CE (channel 0)\")\n",
        "    plt.axis(\"off\")\n",
        "    plt.show()\n",
        "\n",
        "    plt.imshow(sample[:, :, 1], cmap='gray')\n",
        "    plt.title(\"FLAIR (channel 1)\")\n",
        "    plt.axis(\"off\")\n",
        "    plt.show()\n",
        "\n",
        "predict_random_slice(X, y, model, label_map)\n"
      ],
      "metadata": {
        "colab": {
          "base_uri": "https://localhost:8080/",
          "height": 891
        },
        "id": "DJug9Ed2Fc7a",
        "outputId": "446a1b49-3c36-4af1-fdd6-40a4f58b096c"
      },
      "execution_count": null,
      "outputs": [
        {
          "output_type": "stream",
          "name": "stdout",
          "text": [
            "\u001b[1m1/1\u001b[0m \u001b[32m━━━━━━━━━━━━━━━━━━━━\u001b[0m\u001b[37m\u001b[0m \u001b[1m0s\u001b[0m 48ms/step\n",
            "✅ True label: Pre-op\n",
            "🎯 Predicted label: Pre-op\n"
          ]
        },
        {
          "output_type": "display_data",
          "data": {
            "text/plain": [
              "<Figure size 640x480 with 1 Axes>"
            ],
            "image/png": "[encoded data removed]"
          },
          "metadata": {}
        },
        {
          "output_type": "display_data",
          "data": {
            "text/plain": [
              "<Figure size 640x480 with 1 Axes>"
            ],
            "image/png": "[encoded data removed]"
          },
          "metadata": {}
        }
      ]
    },
    {
      "cell_type": "code",
      "source": [
        "##TUMOUR DETERIORATION CLASSIFICATION"
      ],
      "metadata": {
        "id": "t5ID403LHB8Z"
      },
      "execution_count": null,
      "outputs": []
    },
    {
      "cell_type": "code",
      "source": [
        "import os\n",
        "import numpy as np\n",
        "import nibabel as nib\n",
        "import pandas as pd\n",
        "import tensorflow as tf\n",
        "from sklearn.model_selection import train_test_split\n",
        "from sklearn.metrics import classification_report\n",
        "from tensorflow.keras.models import Sequential\n",
        "from tensorflow.keras.layers import Conv2D, MaxPooling2D, Flatten, Dense, Dropout\n",
        "\n",
        "# --------------------- Load Metadata --------------------- #\n",
        "metadata_path = \"/content/drive/MyDrive/UPENN-GBM_clinical_info_v2.1 (1).csv\"\n",
        "df = pd.read_csv(metadata_path)\n",
        "df = df[['ID', 'PsP_TP_score', 'Time_since_baseline_preop']]\n",
        "df = df[df['PsP_TP_score'].notna()]  # Filter out patients without labels\n",
        "df['PsP_TP_score'] = df['PsP_TP_score'].astype(int)\n",
        "df['base_id'] = df['ID'].apply(lambda x: x.split('_')[0])\n",
        "\n",
        "# --------------------- Match Image Files --------------------- #\n",
        "nifti_folder = \"/content/drive/MyDrive/UPENN_GBM_Top10_NIfTI_Converted_Modality\"\n",
        "all_files = os.listdir(nifti_folder)\n",
        "t1ce_files = [f for f in all_files if 't1' in f.lower() and 'post' in f.lower()]\n",
        "t2_flair_files = [f for f in all_files if 'flair' in f.lower()]\n",
        "\n",
        "image_matches = []\n",
        "for _, row in df.iterrows():\n",
        "    pid = row['base_id']\n",
        "    t1ce = [f for f in t1ce_files if f.startswith(pid)]\n",
        "    flair = [f for f in t2_flair_files if f.startswith(pid)]\n",
        "    if t1ce and flair:\n",
        "        image_matches.append({\n",
        "            'base_id': pid,\n",
        "            't1ce_path': os.path.join(nifti_folder, t1ce[0]),\n",
        "            'flair_path': os.path.join(nifti_folder, flair[0])\n",
        "        })\n",
        "\n",
        "# --------------------- Load Images --------------------- #\n",
        "def load_modalities_and_slices(t1ce_path, flair_path, slice_range=(20, 50), target_size=(128, 128)):\n",
        "    t1ce_img = nib.load(t1ce_path).get_fdata()\n",
        "    flair_img = nib.load(flair_path).get_fdata()\n",
        "    t1ce_img = np.nan_to_num(t1ce_img)\n",
        "    flair_img = np.nan_to_num(flair_img)\n",
        "    slices = []\n",
        "    for i in range(slice_range[0], min(slice_range[1], t1ce_img.shape[2], flair_img.shape[2])):\n",
        "        t1ce_slice = t1ce_img[:, :, i]\n",
        "        flair_slice = flair_img[:, :, i]\n",
        "        if t1ce_slice.shape != flair_slice.shape:\n",
        "            continue\n",
        "        combined = np.stack([t1ce_slice, flair_slice], axis=-1)\n",
        "        combined = tf.image.resize(combined, target_size).numpy()\n",
        "        slices.append(combined)\n",
        "    return slices\n",
        "\n",
        "X = []\n",
        "y = []\n",
        "for sample in image_matches:\n",
        "    base_id = sample['base_id']\n",
        "    label = df[df['base_id'] == base_id]['PsP_TP_score'].values[0]\n",
        "    slices = load_modalities_and_slices(sample['t1ce_path'], sample['flair_path'])\n",
        "    X.extend(slices)\n",
        "    y.extend([label] * len(slices))\n",
        "\n",
        "X = np.array(X)\n",
        "y = np.array(y)\n",
        "\n",
        "# --------------------- Preprocess --------------------- #\n",
        "X = (X - X.min()) / (X.max() - X.min())\n",
        "X_train, X_test, y_train, y_test = train_test_split(X, y, test_size=0.2, stratify=y, random_state=42)\n",
        "\n",
        "# --------------------- Build Model --------------------- #\n",
        "model = Sequential([\n",
        "    Conv2D(32, (3,3), activation='relu', input_shape=(128, 128, 2)),\n",
        "    MaxPooling2D(2, 2),\n",
        "    Conv2D(64, (3,3), activation='relu'),\n",
        "    MaxPooling2D(2, 2),\n",
        "    Conv2D(128, (3,3), activation='relu'),\n",
        "    MaxPooling2D(2, 2),\n",
        "    Flatten(),\n",
        "    Dropout(0.5),\n",
        "    Dense(128, activation='relu'),\n",
        "    Dense(1, activation='sigmoid')\n",
        "])\n",
        "\n",
        "model.compile(optimizer='adam', loss='binary_crossentropy', metrics=['accuracy'])\n",
        "model.summary()\n",
        "\n",
        "# --------------------- Train & Evaluate --------------------- #\n",
        "history = model.fit(X_train, y_train, validation_split=0.2, epochs=10, batch_size=8)\n",
        "y_pred = model.predict(X_test)\n",
        "y_pred_classes = (y_pred > 0.5).astype(int).flatten()\n",
        "\n",
        "print(\"\\nClassification Report for Tumor Deterioration Prediction:\")\n",
        "print(classification_report(y_test, y_pred_classes, target_names=[\"PsP\", \"TP\"]))\n"
      ],
      "metadata": {
        "colab": {
          "base_uri": "https://localhost:8080/",
          "height": 332
        },
        "id": "HSEhIsN8HHRC",
        "outputId": "0d12d92a-9e06-438e-890b-750f7d9fd01c"
      },
      "execution_count": null,
      "outputs": [
        {
          "output_type": "error",
          "ename": "ValueError",
          "evalue": "zero-size array to reduction operation minimum which has no identity",
          "traceback": [
            "\u001b[0;31m---------------------------------------------------------------------------\u001b[0m",
            "\u001b[0;31mValueError\u001b[0m                                Traceback (most recent call last)",
            "\u001b[0;32m/tmp/ipython-input-141-46923920.py\u001b[0m in \u001b[0;36m<cell line: 0>\u001b[0;34m()\u001b[0m\n\u001b[1;32m     65\u001b[0m \u001b[0;34m\u001b[0m\u001b[0m\n\u001b[1;32m     66\u001b[0m \u001b[0;31m# --------------------- Preprocess --------------------- #\u001b[0m\u001b[0;34m\u001b[0m\u001b[0;34m\u001b[0m\u001b[0m\n\u001b[0;32m---> 67\u001b[0;31m \u001b[0mX\u001b[0m \u001b[0;34m=\u001b[0m \u001b[0;34m(\u001b[0m\u001b[0mX\u001b[0m \u001b[0;34m-\u001b[0m \u001b[0mX\u001b[0m\u001b[0;34m.\u001b[0m\u001b[0mmin\u001b[0m\u001b[0;34m(\u001b[0m\u001b[0;34m)\u001b[0m\u001b[0;34m)\u001b[0m \u001b[0;34m/\u001b[0m \u001b[0;34m(\u001b[0m\u001b[0mX\u001b[0m\u001b[0;34m.\u001b[0m\u001b[0mmax\u001b[0m\u001b[0;34m(\u001b[0m\u001b[0;34m)\u001b[0m \u001b[0;34m-\u001b[0m \u001b[0mX\u001b[0m\u001b[0;34m.\u001b[0m\u001b[0mmin\u001b[0m\u001b[0;34m(\u001b[0m\u001b[0;34m)\u001b[0m\u001b[0;34m)\u001b[0m\u001b[0;34m\u001b[0m\u001b[0;34m\u001b[0m\u001b[0m\n\u001b[0m\u001b[1;32m     68\u001b[0m \u001b[0mX_train\u001b[0m\u001b[0;34m,\u001b[0m \u001b[0mX_test\u001b[0m\u001b[0;34m,\u001b[0m \u001b[0my_train\u001b[0m\u001b[0;34m,\u001b[0m \u001b[0my_test\u001b[0m \u001b[0;34m=\u001b[0m \u001b[0mtrain_test_split\u001b[0m\u001b[0;34m(\u001b[0m\u001b[0mX\u001b[0m\u001b[0;34m,\u001b[0m \u001b[0my\u001b[0m\u001b[0;34m,\u001b[0m \u001b[0mtest_size\u001b[0m\u001b[0;34m=\u001b[0m\u001b[0;36m0.2\u001b[0m\u001b[0;34m,\u001b[0m \u001b[0mstratify\u001b[0m\u001b[0;34m=\u001b[0m\u001b[0my\u001b[0m\u001b[0;34m,\u001b[0m \u001b[0mrandom_state\u001b[0m\u001b[0;34m=\u001b[0m\u001b[0;36m42\u001b[0m\u001b[0;34m)\u001b[0m\u001b[0;34m\u001b[0m\u001b[0;34m\u001b[0m\u001b[0m\n\u001b[1;32m     69\u001b[0m \u001b[0;34m\u001b[0m\u001b[0m\n",
            "\u001b[0;32m/usr/local/lib/python3.11/dist-packages/numpy/_core/_methods.py\u001b[0m in \u001b[0;36m_amin\u001b[0;34m(a, axis, out, keepdims, initial, where)\u001b[0m\n\u001b[1;32m     46\u001b[0m def _amin(a, axis=None, out=None, keepdims=False,\n\u001b[1;32m     47\u001b[0m           initial=_NoValue, where=True):\n\u001b[0;32m---> 48\u001b[0;31m     \u001b[0;32mreturn\u001b[0m \u001b[0mumr_minimum\u001b[0m\u001b[0;34m(\u001b[0m\u001b[0ma\u001b[0m\u001b[0;34m,\u001b[0m \u001b[0maxis\u001b[0m\u001b[0;34m,\u001b[0m \u001b[0;32mNone\u001b[0m\u001b[0;34m,\u001b[0m \u001b[0mout\u001b[0m\u001b[0;34m,\u001b[0m \u001b[0mkeepdims\u001b[0m\u001b[0;34m,\u001b[0m \u001b[0minitial\u001b[0m\u001b[0;34m,\u001b[0m \u001b[0mwhere\u001b[0m\u001b[0;34m)\u001b[0m\u001b[0;34m\u001b[0m\u001b[0;34m\u001b[0m\u001b[0m\n\u001b[0m\u001b[1;32m     49\u001b[0m \u001b[0;34m\u001b[0m\u001b[0m\n\u001b[1;32m     50\u001b[0m def _sum(a, axis=None, dtype=None, out=None, keepdims=False,\n",
            "\u001b[0;31mValueError\u001b[0m: zero-size array to reduction operation minimum which has no identity"
          ]
        }
      ]
    }
  ],
  "metadata": {
    "colab": {
      "provenance": []
    },
    "kernelspec": {
      "display_name": "Python 3",
      "name": "python3"
    },
    "language_info": {
      "name": "python"
    }
  },
  "nbformat": 4,
  "nbformat_minor": 0
}